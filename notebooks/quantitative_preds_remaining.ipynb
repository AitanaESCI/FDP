{
 "cells": [
  {
   "cell_type": "code",
   "execution_count": 2,
   "metadata": {},
   "outputs": [],
   "source": [
    "import pandas as pd\n",
    "pd.set_option('display.max_columns', None)"
   ]
  },
  {
   "cell_type": "markdown",
   "metadata": {},
   "source": [
    "# ClinVar and Humsavar"
   ]
  },
  {
   "cell_type": "code",
   "execution_count": 2,
   "metadata": {},
   "outputs": [],
   "source": [
    "clinvar = pd.read_csv('~/Desktop/final important files/cleaned_ClinVar_with_preds.csv', sep=',')"
   ]
  },
  {
   "cell_type": "code",
   "execution_count": 67,
   "metadata": {},
   "outputs": [
    {
     "data": {
      "text/plain": [
       "(46050, 70)"
      ]
     },
     "execution_count": 67,
     "metadata": {},
     "output_type": "execute_result"
    }
   ],
   "source": [
    "clinvar.shape"
   ]
  },
  {
   "cell_type": "code",
   "execution_count": 3,
   "metadata": {},
   "outputs": [],
   "source": [
    "humsavar = pd.read_csv('~/Desktop/final important files/cleaned_Humsavar_with_preds_FINAL.csv', sep=',')"
   ]
  },
  {
   "cell_type": "code",
   "execution_count": 68,
   "metadata": {},
   "outputs": [
    {
     "data": {
      "text/plain": [
       "(1108, 67)"
      ]
     },
     "execution_count": 68,
     "metadata": {},
     "output_type": "execute_result"
    }
   ],
   "source": [
    "humsavar.shape"
   ]
  },
  {
   "cell_type": "code",
   "execution_count": 7,
   "metadata": {},
   "outputs": [
    {
     "data": {
      "text/html": [
       "<div>\n",
       "<style scoped>\n",
       "    .dataframe tbody tr th:only-of-type {\n",
       "        vertical-align: middle;\n",
       "    }\n",
       "\n",
       "    .dataframe tbody tr th {\n",
       "        vertical-align: top;\n",
       "    }\n",
       "\n",
       "    .dataframe thead th {\n",
       "        text-align: right;\n",
       "    }\n",
       "</style>\n",
       "<table border=\"1\" class=\"dataframe\">\n",
       "  <thead>\n",
       "    <tr style=\"text-align: right;\">\n",
       "      <th></th>\n",
       "      <th>#AlleleID</th>\n",
       "      <th>Type</th>\n",
       "      <th>Name</th>\n",
       "      <th>GeneID</th>\n",
       "      <th>GeneSymbol</th>\n",
       "      <th>HGNC_ID</th>\n",
       "      <th>ClinicalSignificance</th>\n",
       "      <th>ClinSigSimple</th>\n",
       "      <th>RS# (dbSNP)</th>\n",
       "      <th>nsv/esv (dbVar)</th>\n",
       "      <th>RCVaccession</th>\n",
       "      <th>PhenotypeIDS</th>\n",
       "      <th>PhenotypeList</th>\n",
       "      <th>Origin</th>\n",
       "      <th>OriginSimple</th>\n",
       "      <th>Assembly</th>\n",
       "      <th>ChromosomeAccession</th>\n",
       "      <th>Chromosome</th>\n",
       "      <th>Start</th>\n",
       "      <th>Stop</th>\n",
       "      <th>Cytogenetic</th>\n",
       "      <th>ReviewStatus</th>\n",
       "      <th>NumberSubmitters</th>\n",
       "      <th>OtherIDs</th>\n",
       "      <th>SubmitterCategories</th>\n",
       "      <th>VariationID</th>\n",
       "      <th>PositionVCF</th>\n",
       "      <th>ReferenceAlleleVCF</th>\n",
       "      <th>AlternateAlleleVCF</th>\n",
       "      <th>Variant (3-letter)</th>\n",
       "      <th>Variant</th>\n",
       "      <th>LastEvaluated (Year)</th>\n",
       "      <th>Uploaded_variation</th>\n",
       "      <th>Location</th>\n",
       "      <th>Allele</th>\n",
       "      <th>Gene</th>\n",
       "      <th>Feature</th>\n",
       "      <th>Feature_type</th>\n",
       "      <th>Consequence</th>\n",
       "      <th>cDNA_position</th>\n",
       "      <th>CDS_position</th>\n",
       "      <th>Protein_position</th>\n",
       "      <th>Amino_acids</th>\n",
       "      <th>Codons</th>\n",
       "      <th>Existing_variation</th>\n",
       "      <th>Extra</th>\n",
       "      <th>PositionVCF_dashed</th>\n",
       "      <th>gnomADe_AF</th>\n",
       "      <th>gnomADg_AF</th>\n",
       "      <th>gnomAD_AF</th>\n",
       "      <th>HGVSp</th>\n",
       "      <th>BinaryClinicalSignificance</th>\n",
       "      <th>SIFT_label</th>\n",
       "      <th>SIFT_score</th>\n",
       "      <th>PolyPhen_label</th>\n",
       "      <th>PolyPhen_score</th>\n",
       "      <th>BayesDel_label</th>\n",
       "      <th>BayesDel_score</th>\n",
       "      <th>CADD_PHRED_score</th>\n",
       "      <th>CADD_RAW_score</th>\n",
       "      <th>ClinPred_score</th>\n",
       "      <th>VEST4_score</th>\n",
       "      <th>VEST4_rankscore</th>\n",
       "      <th>EVE_label</th>\n",
       "      <th>EVE_score</th>\n",
       "      <th>REVEL_score</th>\n",
       "      <th>PrimateAI_score</th>\n",
       "      <th>AM_label</th>\n",
       "      <th>AM_score</th>\n",
       "      <th>UniprotID</th>\n",
       "    </tr>\n",
       "  </thead>\n",
       "  <tbody>\n",
       "    <tr>\n",
       "      <th>0</th>\n",
       "      <td>317931</td>\n",
       "      <td>single nucleotide variant</td>\n",
       "      <td>NM_015665.6(AAAS):c.1597G&gt;A (p.Gly533Arg)</td>\n",
       "      <td>8086</td>\n",
       "      <td>AAAS</td>\n",
       "      <td>HGNC:13666</td>\n",
       "      <td>Benign/Likely benign</td>\n",
       "      <td>0</td>\n",
       "      <td>34451260</td>\n",
       "      <td>-</td>\n",
       "      <td>RCV000343022|RCV000886859</td>\n",
       "      <td>MONDO:MONDO:0009279,MedGen:C0271742,OMIM:23155...</td>\n",
       "      <td>Glucocorticoid deficiency with achalasia|not p...</td>\n",
       "      <td>germline</td>\n",
       "      <td>germline</td>\n",
       "      <td>GRCh38</td>\n",
       "      <td>NC_000012.12</td>\n",
       "      <td>12</td>\n",
       "      <td>53307533</td>\n",
       "      <td>53307533</td>\n",
       "      <td>12q13.13</td>\n",
       "      <td>criteria provided, multiple submitters, no con...</td>\n",
       "      <td>3</td>\n",
       "      <td>ClinGen:CA6598796</td>\n",
       "      <td>2</td>\n",
       "      <td>309718</td>\n",
       "      <td>53307533</td>\n",
       "      <td>C</td>\n",
       "      <td>T</td>\n",
       "      <td>Gly533Arg</td>\n",
       "      <td>G533R</td>\n",
       "      <td>2024</td>\n",
       "      <td>34451260.0</td>\n",
       "      <td>12:53307533</td>\n",
       "      <td>T</td>\n",
       "      <td>ENSG00000094914</td>\n",
       "      <td>ENST00000209873.9</td>\n",
       "      <td>Transcript</td>\n",
       "      <td>missense_variant</td>\n",
       "      <td>1742</td>\n",
       "      <td>1597</td>\n",
       "      <td>533</td>\n",
       "      <td>G/R</td>\n",
       "      <td>Ggg/Agg</td>\n",
       "      <td>rs34451260</td>\n",
       "      <td>IMPACT=MODERATE;STRAND=-1;SYMBOL=AAAS;SYMBOL_S...</td>\n",
       "      <td>53307533</td>\n",
       "      <td>0.000793</td>\n",
       "      <td>0.007867</td>\n",
       "      <td>0.000793</td>\n",
       "      <td>ENSP00000209873.4:p.Gly533Arg</td>\n",
       "      <td>B</td>\n",
       "      <td>deleterious_low_confidence</td>\n",
       "      <td>0.0</td>\n",
       "      <td>unknown</td>\n",
       "      <td>0.000</td>\n",
       "      <td>T</td>\n",
       "      <td>-0.362112</td>\n",
       "      <td>20.9</td>\n",
       "      <td>2.951810</td>\n",
       "      <td>0.062144</td>\n",
       "      <td>0.420</td>\n",
       "      <td>0.45743</td>\n",
       "      <td>NaN</td>\n",
       "      <td>NaN</td>\n",
       "      <td>0.257</td>\n",
       "      <td>0.52671</td>\n",
       "      <td>likely_benign</td>\n",
       "      <td>0.1192</td>\n",
       "      <td>Q9NRG9</td>\n",
       "    </tr>\n",
       "    <tr>\n",
       "      <th>1</th>\n",
       "      <td>20084</td>\n",
       "      <td>single nucleotide variant</td>\n",
       "      <td>NM_015665.6(AAAS):c.787T&gt;C (p.Ser263Pro)</td>\n",
       "      <td>8086</td>\n",
       "      <td>AAAS</td>\n",
       "      <td>HGNC:13666</td>\n",
       "      <td>Pathogenic/Likely pathogenic</td>\n",
       "      <td>1</td>\n",
       "      <td>121918550</td>\n",
       "      <td>-</td>\n",
       "      <td>RCV000005348|RCV000311283|RCV000415076|RCV0006...</td>\n",
       "      <td>MONDO:MONDO:0009279,MedGen:C0271742,OMIM:23155...</td>\n",
       "      <td>Glucocorticoid deficiency with achalasia|not p...</td>\n",
       "      <td>germline;unknown</td>\n",
       "      <td>germline</td>\n",
       "      <td>GRCh38</td>\n",
       "      <td>NC_000012.12</td>\n",
       "      <td>12</td>\n",
       "      <td>53309624</td>\n",
       "      <td>53309624</td>\n",
       "      <td>12q13.13</td>\n",
       "      <td>criteria provided, multiple submitters, no con...</td>\n",
       "      <td>11</td>\n",
       "      <td>ClinGen:CA117228,UniProtKB:Q9NRG9#VAR_012806,O...</td>\n",
       "      <td>3</td>\n",
       "      <td>5045</td>\n",
       "      <td>53309624</td>\n",
       "      <td>A</td>\n",
       "      <td>G</td>\n",
       "      <td>Ser263Pro</td>\n",
       "      <td>S263P</td>\n",
       "      <td>2024</td>\n",
       "      <td>121918550.0</td>\n",
       "      <td>12:53309624</td>\n",
       "      <td>G</td>\n",
       "      <td>ENSG00000094914</td>\n",
       "      <td>ENST00000209873.9</td>\n",
       "      <td>Transcript</td>\n",
       "      <td>missense_variant</td>\n",
       "      <td>932</td>\n",
       "      <td>787</td>\n",
       "      <td>263</td>\n",
       "      <td>S/P</td>\n",
       "      <td>Tca/Cca</td>\n",
       "      <td>rs121918550,CM010150</td>\n",
       "      <td>IMPACT=MODERATE;STRAND=-1;SYMBOL=AAAS;SYMBOL_S...</td>\n",
       "      <td>53309624</td>\n",
       "      <td>0.000078</td>\n",
       "      <td>0.000059</td>\n",
       "      <td>0.000078</td>\n",
       "      <td>ENSP00000209873.4:p.Ser263Pro</td>\n",
       "      <td>P</td>\n",
       "      <td>deleterious</td>\n",
       "      <td>0.0</td>\n",
       "      <td>probably_damaging</td>\n",
       "      <td>0.992</td>\n",
       "      <td>D</td>\n",
       "      <td>0.258310</td>\n",
       "      <td>29.2</td>\n",
       "      <td>5.211912</td>\n",
       "      <td>0.980945</td>\n",
       "      <td>0.983</td>\n",
       "      <td>0.99270</td>\n",
       "      <td>Pathogenic</td>\n",
       "      <td>0.951397</td>\n",
       "      <td>0.844</td>\n",
       "      <td>0.71898</td>\n",
       "      <td>likely_pathogenic</td>\n",
       "      <td>0.9852</td>\n",
       "      <td>Q9NRG9</td>\n",
       "    </tr>\n",
       "  </tbody>\n",
       "</table>\n",
       "</div>"
      ],
      "text/plain": [
       "   #AlleleID                       Type  \\\n",
       "0     317931  single nucleotide variant   \n",
       "1      20084  single nucleotide variant   \n",
       "\n",
       "                                        Name  GeneID GeneSymbol     HGNC_ID  \\\n",
       "0  NM_015665.6(AAAS):c.1597G>A (p.Gly533Arg)    8086       AAAS  HGNC:13666   \n",
       "1   NM_015665.6(AAAS):c.787T>C (p.Ser263Pro)    8086       AAAS  HGNC:13666   \n",
       "\n",
       "           ClinicalSignificance  ClinSigSimple  RS# (dbSNP) nsv/esv (dbVar)  \\\n",
       "0          Benign/Likely benign              0     34451260               -   \n",
       "1  Pathogenic/Likely pathogenic              1    121918550               -   \n",
       "\n",
       "                                        RCVaccession  \\\n",
       "0                          RCV000343022|RCV000886859   \n",
       "1  RCV000005348|RCV000311283|RCV000415076|RCV0006...   \n",
       "\n",
       "                                        PhenotypeIDS  \\\n",
       "0  MONDO:MONDO:0009279,MedGen:C0271742,OMIM:23155...   \n",
       "1  MONDO:MONDO:0009279,MedGen:C0271742,OMIM:23155...   \n",
       "\n",
       "                                       PhenotypeList            Origin  \\\n",
       "0  Glucocorticoid deficiency with achalasia|not p...          germline   \n",
       "1  Glucocorticoid deficiency with achalasia|not p...  germline;unknown   \n",
       "\n",
       "  OriginSimple Assembly ChromosomeAccession Chromosome     Start      Stop  \\\n",
       "0     germline   GRCh38        NC_000012.12         12  53307533  53307533   \n",
       "1     germline   GRCh38        NC_000012.12         12  53309624  53309624   \n",
       "\n",
       "  Cytogenetic                                       ReviewStatus  \\\n",
       "0    12q13.13  criteria provided, multiple submitters, no con...   \n",
       "1    12q13.13  criteria provided, multiple submitters, no con...   \n",
       "\n",
       "   NumberSubmitters                                           OtherIDs  \\\n",
       "0                 3                                  ClinGen:CA6598796   \n",
       "1                11  ClinGen:CA117228,UniProtKB:Q9NRG9#VAR_012806,O...   \n",
       "\n",
       "   SubmitterCategories  VariationID  PositionVCF ReferenceAlleleVCF  \\\n",
       "0                    2       309718     53307533                  C   \n",
       "1                    3         5045     53309624                  A   \n",
       "\n",
       "  AlternateAlleleVCF Variant (3-letter) Variant  LastEvaluated (Year)  \\\n",
       "0                  T          Gly533Arg   G533R                  2024   \n",
       "1                  G          Ser263Pro   S263P                  2024   \n",
       "\n",
       "   Uploaded_variation     Location Allele             Gene            Feature  \\\n",
       "0          34451260.0  12:53307533      T  ENSG00000094914  ENST00000209873.9   \n",
       "1         121918550.0  12:53309624      G  ENSG00000094914  ENST00000209873.9   \n",
       "\n",
       "  Feature_type       Consequence  cDNA_position  CDS_position  \\\n",
       "0   Transcript  missense_variant           1742          1597   \n",
       "1   Transcript  missense_variant            932           787   \n",
       "\n",
       "   Protein_position Amino_acids   Codons    Existing_variation  \\\n",
       "0               533         G/R  Ggg/Agg            rs34451260   \n",
       "1               263         S/P  Tca/Cca  rs121918550,CM010150   \n",
       "\n",
       "                                               Extra  PositionVCF_dashed  \\\n",
       "0  IMPACT=MODERATE;STRAND=-1;SYMBOL=AAAS;SYMBOL_S...            53307533   \n",
       "1  IMPACT=MODERATE;STRAND=-1;SYMBOL=AAAS;SYMBOL_S...            53309624   \n",
       "\n",
       "   gnomADe_AF  gnomADg_AF  gnomAD_AF                          HGVSp  \\\n",
       "0    0.000793    0.007867   0.000793  ENSP00000209873.4:p.Gly533Arg   \n",
       "1    0.000078    0.000059   0.000078  ENSP00000209873.4:p.Ser263Pro   \n",
       "\n",
       "  BinaryClinicalSignificance                  SIFT_label  SIFT_score  \\\n",
       "0                          B  deleterious_low_confidence         0.0   \n",
       "1                          P                 deleterious         0.0   \n",
       "\n",
       "      PolyPhen_label  PolyPhen_score BayesDel_label  BayesDel_score  \\\n",
       "0            unknown           0.000              T       -0.362112   \n",
       "1  probably_damaging           0.992              D        0.258310   \n",
       "\n",
       "   CADD_PHRED_score  CADD_RAW_score  ClinPred_score  VEST4_score  \\\n",
       "0              20.9        2.951810        0.062144        0.420   \n",
       "1              29.2        5.211912        0.980945        0.983   \n",
       "\n",
       "   VEST4_rankscore   EVE_label  EVE_score  REVEL_score  PrimateAI_score  \\\n",
       "0          0.45743         NaN        NaN        0.257          0.52671   \n",
       "1          0.99270  Pathogenic   0.951397        0.844          0.71898   \n",
       "\n",
       "            AM_label  AM_score UniprotID  \n",
       "0      likely_benign    0.1192    Q9NRG9  \n",
       "1  likely_pathogenic    0.9852    Q9NRG9  "
      ]
     },
     "execution_count": 7,
     "metadata": {},
     "output_type": "execute_result"
    }
   ],
   "source": [
    "clinvar.head(2)"
   ]
  },
  {
   "cell_type": "code",
   "execution_count": 8,
   "metadata": {},
   "outputs": [
    {
     "data": {
      "text/html": [
       "<div>\n",
       "<style scoped>\n",
       "    .dataframe tbody tr th:only-of-type {\n",
       "        vertical-align: middle;\n",
       "    }\n",
       "\n",
       "    .dataframe tbody tr th {\n",
       "        vertical-align: top;\n",
       "    }\n",
       "\n",
       "    .dataframe thead th {\n",
       "        text-align: right;\n",
       "    }\n",
       "</style>\n",
       "<table border=\"1\" class=\"dataframe\">\n",
       "  <thead>\n",
       "    <tr style=\"text-align: right;\">\n",
       "      <th></th>\n",
       "      <th>Main gene name</th>\n",
       "      <th>Uniprot</th>\n",
       "      <th>FTId</th>\n",
       "      <th>AA change</th>\n",
       "      <th>Variant category</th>\n",
       "      <th>dbSNP</th>\n",
       "      <th>Disease name</th>\n",
       "      <th>Source</th>\n",
       "      <th>Variant</th>\n",
       "      <th>BinaryClinicalSignificance</th>\n",
       "      <th>MANE-Select ID</th>\n",
       "      <th>Ensembl ID</th>\n",
       "      <th>Protein ID</th>\n",
       "      <th>RefSeq Nucleotide ID</th>\n",
       "      <th>RefSeq Protein ID</th>\n",
       "      <th>Error</th>\n",
       "      <th>#Uploaded_variation</th>\n",
       "      <th>Location</th>\n",
       "      <th>Allele</th>\n",
       "      <th>Consequence</th>\n",
       "      <th>IMPACT</th>\n",
       "      <th>GeneSymbol</th>\n",
       "      <th>Gene</th>\n",
       "      <th>Feature_type</th>\n",
       "      <th>Feature</th>\n",
       "      <th>cDNA_position</th>\n",
       "      <th>CDS_position</th>\n",
       "      <th>Protein_position</th>\n",
       "      <th>Amino_acids</th>\n",
       "      <th>Codons</th>\n",
       "      <th>Existing_variation</th>\n",
       "      <th>REF_ALLELE</th>\n",
       "      <th>HGNC_ID</th>\n",
       "      <th>ENSP</th>\n",
       "      <th>SWISSPROT</th>\n",
       "      <th>TREMBL</th>\n",
       "      <th>UNIPARC</th>\n",
       "      <th>UNIPROT_ISOFORM</th>\n",
       "      <th>SIFT_label</th>\n",
       "      <th>SIFT_score</th>\n",
       "      <th>PolyPhen_label</th>\n",
       "      <th>PolyPhen_score</th>\n",
       "      <th>AF</th>\n",
       "      <th>CLIN_SIG</th>\n",
       "      <th>SOMATIC</th>\n",
       "      <th>PHENO</th>\n",
       "      <th>PUBMED</th>\n",
       "      <th>TRANSCRIPTION_FACTORS</th>\n",
       "      <th>REVEL_score</th>\n",
       "      <th>BLOSUM62</th>\n",
       "      <th>EVE_label</th>\n",
       "      <th>EVE_score</th>\n",
       "      <th>CADD_PHRED_score</th>\n",
       "      <th>CADD_RAW_score</th>\n",
       "      <th>AM_label</th>\n",
       "      <th>AM_score</th>\n",
       "      <th>BayesDel_label</th>\n",
       "      <th>BayesDel_score</th>\n",
       "      <th>PrimateAI_label</th>\n",
       "      <th>PrimateAI_score</th>\n",
       "      <th>Uniprot_acc</th>\n",
       "      <th>Uniprot_entry</th>\n",
       "      <th>clinvar_id</th>\n",
       "      <th>clinvar_review</th>\n",
       "      <th>ClinPred_score</th>\n",
       "      <th>NaN_count</th>\n",
       "      <th>UniprotID</th>\n",
       "    </tr>\n",
       "  </thead>\n",
       "  <tbody>\n",
       "    <tr>\n",
       "      <th>0</th>\n",
       "      <td>ABTB3</td>\n",
       "      <td>A6QL63</td>\n",
       "      <td>VAR_042534</td>\n",
       "      <td>p.Ala1002Asp</td>\n",
       "      <td>LB/B</td>\n",
       "      <td>rs11610050</td>\n",
       "      <td>NaN</td>\n",
       "      <td>2025</td>\n",
       "      <td>A1002D</td>\n",
       "      <td>B</td>\n",
       "      <td>ENST00000280758.10</td>\n",
       "      <td>ENST00000280758</td>\n",
       "      <td>ENSP00000280758.5</td>\n",
       "      <td>NM_001018072.2</td>\n",
       "      <td>NP_001018082.1</td>\n",
       "      <td>NaN</td>\n",
       "      <td>rs11610050</td>\n",
       "      <td>12:107651687-107651687</td>\n",
       "      <td>A</td>\n",
       "      <td>missense_variant</td>\n",
       "      <td>MODERATE</td>\n",
       "      <td>ABTB3</td>\n",
       "      <td>ENSG00000151136</td>\n",
       "      <td>Transcript</td>\n",
       "      <td>ENST00000280758.10</td>\n",
       "      <td>3512</td>\n",
       "      <td>3005</td>\n",
       "      <td>1002</td>\n",
       "      <td>A/D</td>\n",
       "      <td>gCt/gAt</td>\n",
       "      <td>rs11610050</td>\n",
       "      <td>C</td>\n",
       "      <td>HGNC:23844</td>\n",
       "      <td>ENSP00000280758</td>\n",
       "      <td>A6QL63.129</td>\n",
       "      <td>-</td>\n",
       "      <td>UPI000051901E</td>\n",
       "      <td>A6QL63-1</td>\n",
       "      <td>deleterious_low_confidence</td>\n",
       "      <td>0.00</td>\n",
       "      <td>probably_damaging</td>\n",
       "      <td>0.972</td>\n",
       "      <td>-</td>\n",
       "      <td>-</td>\n",
       "      <td>-</td>\n",
       "      <td>-</td>\n",
       "      <td>-</td>\n",
       "      <td>-</td>\n",
       "      <td>0.649</td>\n",
       "      <td>-2</td>\n",
       "      <td>-</td>\n",
       "      <td>-</td>\n",
       "      <td>31.0</td>\n",
       "      <td>5.339176</td>\n",
       "      <td>likely_pathogenic</td>\n",
       "      <td>0.9994</td>\n",
       "      <td>D</td>\n",
       "      <td>0.356338</td>\n",
       "      <td>D</td>\n",
       "      <td>0.848108232021</td>\n",
       "      <td>A6QL63,A6QL63-2,A6QL63-5,A6QL63-4</td>\n",
       "      <td>BTBDB_HUMAN,BTBDB_HUMAN,BTBDB_HUMAN,BTBDB_HUMAN</td>\n",
       "      <td>-</td>\n",
       "      <td>-</td>\n",
       "      <td>0.999407649040222</td>\n",
       "      <td>0.0</td>\n",
       "      <td>A6QL63</td>\n",
       "    </tr>\n",
       "    <tr>\n",
       "      <th>1</th>\n",
       "      <td>ABTB3</td>\n",
       "      <td>A6QL63</td>\n",
       "      <td>VAR_042535</td>\n",
       "      <td>p.Gly1076Ser</td>\n",
       "      <td>LB/B</td>\n",
       "      <td>rs12303478</td>\n",
       "      <td>NaN</td>\n",
       "      <td>2025</td>\n",
       "      <td>G1076S</td>\n",
       "      <td>B</td>\n",
       "      <td>ENST00000280758.10</td>\n",
       "      <td>ENST00000280758</td>\n",
       "      <td>ENSP00000280758.5</td>\n",
       "      <td>NM_001018072.2</td>\n",
       "      <td>NP_001018082.1</td>\n",
       "      <td>NaN</td>\n",
       "      <td>rs12303478</td>\n",
       "      <td>12:107657629-107657629</td>\n",
       "      <td>A</td>\n",
       "      <td>missense_variant</td>\n",
       "      <td>MODERATE</td>\n",
       "      <td>ABTB3</td>\n",
       "      <td>ENSG00000151136</td>\n",
       "      <td>Transcript</td>\n",
       "      <td>ENST00000280758.10</td>\n",
       "      <td>3733</td>\n",
       "      <td>3226</td>\n",
       "      <td>1076</td>\n",
       "      <td>G/S</td>\n",
       "      <td>Ggc/Agc</td>\n",
       "      <td>rs12303478,COSV104383452</td>\n",
       "      <td>G</td>\n",
       "      <td>HGNC:23844</td>\n",
       "      <td>ENSP00000280758</td>\n",
       "      <td>A6QL63.129</td>\n",
       "      <td>-</td>\n",
       "      <td>UPI000051901E</td>\n",
       "      <td>A6QL63-1</td>\n",
       "      <td>tolerated_low_confidence</td>\n",
       "      <td>0.09</td>\n",
       "      <td>benign</td>\n",
       "      <td>0.049</td>\n",
       "      <td>0.1048</td>\n",
       "      <td>-</td>\n",
       "      <td>0,1</td>\n",
       "      <td>0,1</td>\n",
       "      <td>-</td>\n",
       "      <td>-</td>\n",
       "      <td>0.072</td>\n",
       "      <td>0</td>\n",
       "      <td>-</td>\n",
       "      <td>-</td>\n",
       "      <td>22.4</td>\n",
       "      <td>3.396815</td>\n",
       "      <td>likely_benign</td>\n",
       "      <td>0.0921</td>\n",
       "      <td>T</td>\n",
       "      <td>-0.583583</td>\n",
       "      <td>T</td>\n",
       "      <td>0.613067984581</td>\n",
       "      <td>A6QL63,A6QL63-2,A6QL63-5,A6QL63-4</td>\n",
       "      <td>BTBDB_HUMAN,BTBDB_HUMAN,BTBDB_HUMAN,BTBDB_HUMAN</td>\n",
       "      <td>-</td>\n",
       "      <td>-</td>\n",
       "      <td>0.0157182390193226</td>\n",
       "      <td>0.0</td>\n",
       "      <td>A6QL63</td>\n",
       "    </tr>\n",
       "  </tbody>\n",
       "</table>\n",
       "</div>"
      ],
      "text/plain": [
       "  Main gene name Uniprot        FTId     AA change Variant category  \\\n",
       "0          ABTB3  A6QL63  VAR_042534  p.Ala1002Asp             LB/B   \n",
       "1          ABTB3  A6QL63  VAR_042535  p.Gly1076Ser             LB/B   \n",
       "\n",
       "        dbSNP Disease name  Source Variant BinaryClinicalSignificance  \\\n",
       "0  rs11610050          NaN    2025  A1002D                          B   \n",
       "1  rs12303478          NaN    2025  G1076S                          B   \n",
       "\n",
       "       MANE-Select ID       Ensembl ID         Protein ID  \\\n",
       "0  ENST00000280758.10  ENST00000280758  ENSP00000280758.5   \n",
       "1  ENST00000280758.10  ENST00000280758  ENSP00000280758.5   \n",
       "\n",
       "  RefSeq Nucleotide ID RefSeq Protein ID  Error #Uploaded_variation  \\\n",
       "0       NM_001018072.2    NP_001018082.1    NaN          rs11610050   \n",
       "1       NM_001018072.2    NP_001018082.1    NaN          rs12303478   \n",
       "\n",
       "                 Location Allele       Consequence    IMPACT GeneSymbol  \\\n",
       "0  12:107651687-107651687      A  missense_variant  MODERATE      ABTB3   \n",
       "1  12:107657629-107657629      A  missense_variant  MODERATE      ABTB3   \n",
       "\n",
       "              Gene Feature_type             Feature  cDNA_position  \\\n",
       "0  ENSG00000151136   Transcript  ENST00000280758.10           3512   \n",
       "1  ENSG00000151136   Transcript  ENST00000280758.10           3733   \n",
       "\n",
       "   CDS_position  Protein_position Amino_acids   Codons  \\\n",
       "0          3005              1002         A/D  gCt/gAt   \n",
       "1          3226              1076         G/S  Ggc/Agc   \n",
       "\n",
       "         Existing_variation REF_ALLELE     HGNC_ID             ENSP  \\\n",
       "0                rs11610050          C  HGNC:23844  ENSP00000280758   \n",
       "1  rs12303478,COSV104383452          G  HGNC:23844  ENSP00000280758   \n",
       "\n",
       "    SWISSPROT TREMBL        UNIPARC UNIPROT_ISOFORM  \\\n",
       "0  A6QL63.129      -  UPI000051901E        A6QL63-1   \n",
       "1  A6QL63.129      -  UPI000051901E        A6QL63-1   \n",
       "\n",
       "                   SIFT_label  SIFT_score     PolyPhen_label  PolyPhen_score  \\\n",
       "0  deleterious_low_confidence        0.00  probably_damaging           0.972   \n",
       "1    tolerated_low_confidence        0.09             benign           0.049   \n",
       "\n",
       "       AF CLIN_SIG SOMATIC PHENO PUBMED TRANSCRIPTION_FACTORS REVEL_score  \\\n",
       "0       -        -       -     -      -                     -       0.649   \n",
       "1  0.1048        -     0,1   0,1      -                     -       0.072   \n",
       "\n",
       "   BLOSUM62 EVE_label EVE_score  CADD_PHRED_score  CADD_RAW_score  \\\n",
       "0        -2         -         -              31.0        5.339176   \n",
       "1         0         -         -              22.4        3.396815   \n",
       "\n",
       "            AM_label AM_score BayesDel_label BayesDel_score PrimateAI_label  \\\n",
       "0  likely_pathogenic   0.9994              D       0.356338               D   \n",
       "1      likely_benign   0.0921              T      -0.583583               T   \n",
       "\n",
       "  PrimateAI_score                        Uniprot_acc  \\\n",
       "0  0.848108232021  A6QL63,A6QL63-2,A6QL63-5,A6QL63-4   \n",
       "1  0.613067984581  A6QL63,A6QL63-2,A6QL63-5,A6QL63-4   \n",
       "\n",
       "                                     Uniprot_entry clinvar_id clinvar_review  \\\n",
       "0  BTBDB_HUMAN,BTBDB_HUMAN,BTBDB_HUMAN,BTBDB_HUMAN          -              -   \n",
       "1  BTBDB_HUMAN,BTBDB_HUMAN,BTBDB_HUMAN,BTBDB_HUMAN          -              -   \n",
       "\n",
       "       ClinPred_score  NaN_count UniprotID  \n",
       "0   0.999407649040222        0.0    A6QL63  \n",
       "1  0.0157182390193226        0.0    A6QL63  "
      ]
     },
     "execution_count": 8,
     "metadata": {},
     "output_type": "execute_result"
    }
   ],
   "source": [
    "humsavar.head(2)"
   ]
  },
  {
   "cell_type": "code",
   "execution_count": 4,
   "metadata": {},
   "outputs": [
    {
     "data": {
      "text/plain": [
       "2105"
      ]
     },
     "execution_count": 4,
     "metadata": {},
     "output_type": "execute_result"
    }
   ],
   "source": [
    "clinvar.UniprotID.nunique()"
   ]
  },
  {
   "cell_type": "code",
   "execution_count": 5,
   "metadata": {},
   "outputs": [
    {
     "data": {
      "text/plain": [
       "469"
      ]
     },
     "execution_count": 5,
     "metadata": {},
     "output_type": "execute_result"
    }
   ],
   "source": [
    "humsavar.UniprotID.nunique()"
   ]
  },
  {
   "cell_type": "code",
   "execution_count": 19,
   "metadata": {},
   "outputs": [],
   "source": [
    "# Extract 'Variant' and 'Uniprot' columns for ClinVar\n",
    "clinvar_extracted = clinvar[['Variant', 'UniprotID', 'GeneSymbol']]\n",
    "\n",
    "# Extract 'Variant' and 'Uniprot' columns for Humsavar\n",
    "humsavar_extracted = humsavar[['Variant', 'UniprotID', 'GeneSymbol']]\n",
    "\n",
    "clinvar_extracted.to_csv('~/Desktop/final important files/clinvar_variant_uniprot_gene.csv', index=False)\n",
    "humsavar_extracted.to_csv('~/Desktop/final important files/humsavar_variant_uniprot_gene.csv', index=False)"
   ]
  },
  {
   "cell_type": "markdown",
   "metadata": {},
   "source": [
    "# ENvision predictions"
   ]
  },
  {
   "cell_type": "code",
   "execution_count": 72,
   "metadata": {},
   "outputs": [],
   "source": [
    "chunk_size = 200000\n",
    "env_preds = pd.read_csv('~/Desktop/final important files/ENvision_predictions.csv', sep=',', chunksize=chunk_size)"
   ]
  },
  {
   "cell_type": "code",
   "execution_count": 73,
   "metadata": {},
   "outputs": [
    {
     "name": "stderr",
     "output_type": "stream",
     "text": [
      "/var/folders/cc/jxs8yxmn00bb_43d9z_0f13c0000gn/T/ipykernel_6812/3535975330.py:1: DtypeWarning: Columns (0) have mixed types. Specify dtype option on import or set low_memory=False.\n",
      "  first_chunk = next(env_preds)\n"
     ]
    },
    {
     "data": {
      "text/html": [
       "<div>\n",
       "<style scoped>\n",
       "    .dataframe tbody tr th:only-of-type {\n",
       "        vertical-align: middle;\n",
       "    }\n",
       "\n",
       "    .dataframe tbody tr th {\n",
       "        vertical-align: top;\n",
       "    }\n",
       "\n",
       "    .dataframe thead th {\n",
       "        text-align: right;\n",
       "    }\n",
       "</style>\n",
       "<table border=\"1\" class=\"dataframe\">\n",
       "  <thead>\n",
       "    <tr style=\"text-align: right;\">\n",
       "      <th></th>\n",
       "      <th>X1</th>\n",
       "      <th>id2</th>\n",
       "      <th>AA1</th>\n",
       "      <th>AA2</th>\n",
       "      <th>position</th>\n",
       "      <th>Uniprot</th>\n",
       "      <th>WT_Mut</th>\n",
       "      <th>Variant</th>\n",
       "      <th>AA1_polarity</th>\n",
       "      <th>AA2_polarity</th>\n",
       "      <th>AA1_PI</th>\n",
       "      <th>AA2_PI</th>\n",
       "      <th>deltaPI</th>\n",
       "      <th>AA1_weight</th>\n",
       "      <th>AA2_weight</th>\n",
       "      <th>deltaWeight</th>\n",
       "      <th>AA1vol</th>\n",
       "      <th>AA2vol</th>\n",
       "      <th>deltavolume</th>\n",
       "      <th>Grantham</th>\n",
       "      <th>AA1_psic</th>\n",
       "      <th>AA2_psic</th>\n",
       "      <th>delta_psic</th>\n",
       "      <th>accessibility</th>\n",
       "      <th>dssp_sec_str</th>\n",
       "      <th>phi_psi_reg</th>\n",
       "      <th>delta_solvent_accessibility</th>\n",
       "      <th>b_factor</th>\n",
       "      <th>mut_msa_congruency</th>\n",
       "      <th>mut_mut_msa_congruency</th>\n",
       "      <th>seq_ind_closest_mut</th>\n",
       "      <th>evolutionary_coupling_avg</th>\n",
       "      <th>evolutionary_coupling_prop</th>\n",
       "      <th>evolutionary_coupling_avg_norm</th>\n",
       "      <th>Envision_predictions</th>\n",
       "    </tr>\n",
       "  </thead>\n",
       "  <tbody>\n",
       "    <tr>\n",
       "      <th>0</th>\n",
       "      <td>==&gt; human_predicted_combined_20170925.csv &lt;==</td>\n",
       "      <td>NaN</td>\n",
       "      <td>NaN</td>\n",
       "      <td>NaN</td>\n",
       "      <td>NaN</td>\n",
       "      <td>NaN</td>\n",
       "      <td>NaN</td>\n",
       "      <td>NaN</td>\n",
       "      <td>NaN</td>\n",
       "      <td>NaN</td>\n",
       "      <td>NaN</td>\n",
       "      <td>NaN</td>\n",
       "      <td>NaN</td>\n",
       "      <td>NaN</td>\n",
       "      <td>NaN</td>\n",
       "      <td>NaN</td>\n",
       "      <td>NaN</td>\n",
       "      <td>NaN</td>\n",
       "      <td>NaN</td>\n",
       "      <td>NaN</td>\n",
       "      <td>NaN</td>\n",
       "      <td>NaN</td>\n",
       "      <td>NaN</td>\n",
       "      <td>NaN</td>\n",
       "      <td>NaN</td>\n",
       "      <td>NaN</td>\n",
       "      <td>NaN</td>\n",
       "      <td>NaN</td>\n",
       "      <td>NaN</td>\n",
       "      <td>NaN</td>\n",
       "      <td>NaN</td>\n",
       "      <td>NaN</td>\n",
       "      <td>NaN</td>\n",
       "      <td>NaN</td>\n",
       "      <td>NaN</td>\n",
       "    </tr>\n",
       "    <tr>\n",
       "      <th>1</th>\n",
       "      <td>2</td>\n",
       "      <td>Q9H920_H76M</td>\n",
       "      <td>H</td>\n",
       "      <td>M</td>\n",
       "      <td>76.0</td>\n",
       "      <td>Q9H920</td>\n",
       "      <td>HM</td>\n",
       "      <td>H76M</td>\n",
       "      <td>PositiveCharge</td>\n",
       "      <td>Hydrophobic</td>\n",
       "      <td>7.59</td>\n",
       "      <td>5.74</td>\n",
       "      <td>-1.85</td>\n",
       "      <td>155.0</td>\n",
       "      <td>149.0</td>\n",
       "      <td>-6.0</td>\n",
       "      <td>153.2</td>\n",
       "      <td>162.9</td>\n",
       "      <td>9.7</td>\n",
       "      <td>87.0</td>\n",
       "      <td>-1.244</td>\n",
       "      <td>-4.864</td>\n",
       "      <td>3.620</td>\n",
       "      <td>NaN</td>\n",
       "      <td>NaN</td>\n",
       "      <td>NaN</td>\n",
       "      <td>NaN</td>\n",
       "      <td>NaN</td>\n",
       "      <td>1.236</td>\n",
       "      <td>NaN</td>\n",
       "      <td>49.24</td>\n",
       "      <td>NaN</td>\n",
       "      <td>NaN</td>\n",
       "      <td>NaN</td>\n",
       "      <td>0.777403</td>\n",
       "    </tr>\n",
       "    <tr>\n",
       "      <th>2</th>\n",
       "      <td>3</td>\n",
       "      <td>Q9H920_H76N</td>\n",
       "      <td>H</td>\n",
       "      <td>N</td>\n",
       "      <td>76.0</td>\n",
       "      <td>Q9H920</td>\n",
       "      <td>HN</td>\n",
       "      <td>H76N</td>\n",
       "      <td>PositiveCharge</td>\n",
       "      <td>Polar</td>\n",
       "      <td>7.59</td>\n",
       "      <td>5.47</td>\n",
       "      <td>-2.12</td>\n",
       "      <td>155.0</td>\n",
       "      <td>132.0</td>\n",
       "      <td>-23.0</td>\n",
       "      <td>153.2</td>\n",
       "      <td>114.1</td>\n",
       "      <td>-39.1</td>\n",
       "      <td>68.0</td>\n",
       "      <td>-1.244</td>\n",
       "      <td>-2.804</td>\n",
       "      <td>1.560</td>\n",
       "      <td>NaN</td>\n",
       "      <td>NaN</td>\n",
       "      <td>NaN</td>\n",
       "      <td>NaN</td>\n",
       "      <td>NaN</td>\n",
       "      <td>13.851</td>\n",
       "      <td>13.851</td>\n",
       "      <td>49.24</td>\n",
       "      <td>NaN</td>\n",
       "      <td>NaN</td>\n",
       "      <td>NaN</td>\n",
       "      <td>0.866815</td>\n",
       "    </tr>\n",
       "    <tr>\n",
       "      <th>3</th>\n",
       "      <td>4</td>\n",
       "      <td>Q9H920_H76P</td>\n",
       "      <td>H</td>\n",
       "      <td>P</td>\n",
       "      <td>76.0</td>\n",
       "      <td>Q9H920</td>\n",
       "      <td>HP</td>\n",
       "      <td>H76P</td>\n",
       "      <td>PositiveCharge</td>\n",
       "      <td>Special</td>\n",
       "      <td>7.59</td>\n",
       "      <td>6.30</td>\n",
       "      <td>-1.29</td>\n",
       "      <td>155.0</td>\n",
       "      <td>115.0</td>\n",
       "      <td>-40.0</td>\n",
       "      <td>153.2</td>\n",
       "      <td>112.7</td>\n",
       "      <td>-40.5</td>\n",
       "      <td>77.0</td>\n",
       "      <td>-1.244</td>\n",
       "      <td>-3.209</td>\n",
       "      <td>1.965</td>\n",
       "      <td>NaN</td>\n",
       "      <td>NaN</td>\n",
       "      <td>NaN</td>\n",
       "      <td>NaN</td>\n",
       "      <td>NaN</td>\n",
       "      <td>14.222</td>\n",
       "      <td>14.222</td>\n",
       "      <td>49.24</td>\n",
       "      <td>NaN</td>\n",
       "      <td>NaN</td>\n",
       "      <td>NaN</td>\n",
       "      <td>0.822926</td>\n",
       "    </tr>\n",
       "    <tr>\n",
       "      <th>4</th>\n",
       "      <td>5</td>\n",
       "      <td>Q9H920_H76Q</td>\n",
       "      <td>H</td>\n",
       "      <td>Q</td>\n",
       "      <td>76.0</td>\n",
       "      <td>Q9H920</td>\n",
       "      <td>HQ</td>\n",
       "      <td>H76Q</td>\n",
       "      <td>PositiveCharge</td>\n",
       "      <td>Polar</td>\n",
       "      <td>7.59</td>\n",
       "      <td>6.24</td>\n",
       "      <td>-1.35</td>\n",
       "      <td>155.0</td>\n",
       "      <td>146.0</td>\n",
       "      <td>-9.0</td>\n",
       "      <td>153.2</td>\n",
       "      <td>143.8</td>\n",
       "      <td>-9.4</td>\n",
       "      <td>24.0</td>\n",
       "      <td>-1.244</td>\n",
       "      <td>-3.981</td>\n",
       "      <td>2.737</td>\n",
       "      <td>NaN</td>\n",
       "      <td>NaN</td>\n",
       "      <td>NaN</td>\n",
       "      <td>NaN</td>\n",
       "      <td>NaN</td>\n",
       "      <td>2.960</td>\n",
       "      <td>NaN</td>\n",
       "      <td>49.24</td>\n",
       "      <td>NaN</td>\n",
       "      <td>NaN</td>\n",
       "      <td>NaN</td>\n",
       "      <td>0.792587</td>\n",
       "    </tr>\n",
       "  </tbody>\n",
       "</table>\n",
       "</div>"
      ],
      "text/plain": [
       "                                              X1          id2  AA1  AA2  \\\n",
       "0  ==> human_predicted_combined_20170925.csv <==          NaN  NaN  NaN   \n",
       "1                                              2  Q9H920_H76M    H    M   \n",
       "2                                              3  Q9H920_H76N    H    N   \n",
       "3                                              4  Q9H920_H76P    H    P   \n",
       "4                                              5  Q9H920_H76Q    H    Q   \n",
       "\n",
       "   position Uniprot WT_Mut Variant    AA1_polarity AA2_polarity  AA1_PI  \\\n",
       "0       NaN     NaN    NaN     NaN             NaN          NaN     NaN   \n",
       "1      76.0  Q9H920     HM    H76M  PositiveCharge  Hydrophobic    7.59   \n",
       "2      76.0  Q9H920     HN    H76N  PositiveCharge        Polar    7.59   \n",
       "3      76.0  Q9H920     HP    H76P  PositiveCharge      Special    7.59   \n",
       "4      76.0  Q9H920     HQ    H76Q  PositiveCharge        Polar    7.59   \n",
       "\n",
       "   AA2_PI  deltaPI  AA1_weight  AA2_weight  deltaWeight  AA1vol  AA2vol  \\\n",
       "0     NaN      NaN         NaN         NaN          NaN     NaN     NaN   \n",
       "1    5.74    -1.85       155.0       149.0         -6.0   153.2   162.9   \n",
       "2    5.47    -2.12       155.0       132.0        -23.0   153.2   114.1   \n",
       "3    6.30    -1.29       155.0       115.0        -40.0   153.2   112.7   \n",
       "4    6.24    -1.35       155.0       146.0         -9.0   153.2   143.8   \n",
       "\n",
       "   deltavolume  Grantham  AA1_psic  AA2_psic  delta_psic  accessibility  \\\n",
       "0          NaN       NaN       NaN       NaN         NaN            NaN   \n",
       "1          9.7      87.0    -1.244    -4.864       3.620            NaN   \n",
       "2        -39.1      68.0    -1.244    -2.804       1.560            NaN   \n",
       "3        -40.5      77.0    -1.244    -3.209       1.965            NaN   \n",
       "4         -9.4      24.0    -1.244    -3.981       2.737            NaN   \n",
       "\n",
       "   dssp_sec_str  phi_psi_reg  delta_solvent_accessibility  b_factor  \\\n",
       "0           NaN          NaN                          NaN       NaN   \n",
       "1           NaN          NaN                          NaN       NaN   \n",
       "2           NaN          NaN                          NaN       NaN   \n",
       "3           NaN          NaN                          NaN       NaN   \n",
       "4           NaN          NaN                          NaN       NaN   \n",
       "\n",
       "   mut_msa_congruency  mut_mut_msa_congruency  seq_ind_closest_mut  \\\n",
       "0                 NaN                     NaN                  NaN   \n",
       "1               1.236                     NaN                49.24   \n",
       "2              13.851                  13.851                49.24   \n",
       "3              14.222                  14.222                49.24   \n",
       "4               2.960                     NaN                49.24   \n",
       "\n",
       "   evolutionary_coupling_avg  evolutionary_coupling_prop  \\\n",
       "0                        NaN                         NaN   \n",
       "1                        NaN                         NaN   \n",
       "2                        NaN                         NaN   \n",
       "3                        NaN                         NaN   \n",
       "4                        NaN                         NaN   \n",
       "\n",
       "   evolutionary_coupling_avg_norm  Envision_predictions  \n",
       "0                             NaN                   NaN  \n",
       "1                             NaN              0.777403  \n",
       "2                             NaN              0.866815  \n",
       "3                             NaN              0.822926  \n",
       "4                             NaN              0.792587  "
      ]
     },
     "execution_count": 73,
     "metadata": {},
     "output_type": "execute_result"
    }
   ],
   "source": [
    "first_chunk = next(env_preds)\n",
    "first_chunk.head()"
   ]
  },
  {
   "cell_type": "markdown",
   "metadata": {},
   "source": [
    "Procedure:\n",
    "\n",
    "1. Read Envision predictions in chunks to avoid memory issues.\n",
    "2. Filter only the variants in the ClinVar list.\n",
    "3. Merge Envision scores with the variant data.\n",
    "4. Save the final result with Variant, Uniprot, GeneSymbol, and Envision_predictions."
   ]
  },
  {
   "cell_type": "markdown",
   "metadata": {},
   "source": [
    "### ClinVar"
   ]
  },
  {
   "cell_type": "code",
   "execution_count": 77,
   "metadata": {},
   "outputs": [
    {
     "name": "stderr",
     "output_type": "stream",
     "text": [
      "/var/folders/cc/jxs8yxmn00bb_43d9z_0f13c0000gn/T/ipykernel_6812/1934765825.py:9: DtypeWarning: Columns (34) have mixed types. Specify dtype option on import or set low_memory=False.\n",
      "  for chunk in reader:\n",
      "/var/folders/cc/jxs8yxmn00bb_43d9z_0f13c0000gn/T/ipykernel_6812/1934765825.py:9: DtypeWarning: Columns (34) have mixed types. Specify dtype option on import or set low_memory=False.\n",
      "  for chunk in reader:\n",
      "/var/folders/cc/jxs8yxmn00bb_43d9z_0f13c0000gn/T/ipykernel_6812/1934765825.py:9: DtypeWarning: Columns (5,7) have mixed types. Specify dtype option on import or set low_memory=False.\n",
      "  for chunk in reader:\n",
      "/var/folders/cc/jxs8yxmn00bb_43d9z_0f13c0000gn/T/ipykernel_6812/1934765825.py:9: DtypeWarning: Columns (5,7) have mixed types. Specify dtype option on import or set low_memory=False.\n",
      "  for chunk in reader:\n"
     ]
    }
   ],
   "source": [
    "chunk_size = 200000\n",
    "reader = pd.read_csv('~/Desktop/final important files/ENvision_predictions.csv', usecols=['Variant', 'Uniprot', 'Envision_predictions'], chunksize=chunk_size)\n",
    "\n",
    "variants = pd.read_csv('~/Desktop/final important files/clinvar_variant_uniprot_gene.csv')\n",
    "\n",
    "results = []\n",
    "variants['Variant'] = variants['Variant'].astype(str)\n",
    "variants['UniprotID'] = variants['UniprotID'].astype(str)\n",
    "for chunk in reader:\n",
    "    chunk['Variant'] = chunk['Variant'].astype(str)\n",
    "    chunk['Uniprot'] = chunk['Uniprot'].astype(str)\n",
    "    merged = pd.merge(chunk, variants, left_on=['Variant', 'Uniprot'], right_on=['Variant', 'UniprotID'], how='inner')\n",
    "    results.append(merged[['Variant', 'UniprotID', 'Envision_predictions']])\n",
    "\n",
    "envision_filtered = pd.concat(results)\n",
    "\n",
    "final_df = pd.merge(variants, envision_filtered, left_on=['Variant', 'UniprotID'], right_on=['Variant', 'UniprotID'], how='left')\n",
    "final_df.to_csv('~/Desktop/final important files/clinvar_with_envision.csv', index=False)"
   ]
  },
  {
   "cell_type": "code",
   "execution_count": 78,
   "metadata": {},
   "outputs": [
    {
     "data": {
      "text/plain": [
       "(47609, 4)"
      ]
     },
     "execution_count": 78,
     "metadata": {},
     "output_type": "execute_result"
    }
   ],
   "source": [
    "final_df.shape"
   ]
  },
  {
   "cell_type": "markdown",
   "metadata": {},
   "source": [
    "### Humsavar"
   ]
  },
  {
   "cell_type": "code",
   "execution_count": 79,
   "metadata": {},
   "outputs": [
    {
     "name": "stderr",
     "output_type": "stream",
     "text": [
      "/var/folders/cc/jxs8yxmn00bb_43d9z_0f13c0000gn/T/ipykernel_6812/1222850924.py:9: DtypeWarning: Columns (34) have mixed types. Specify dtype option on import or set low_memory=False.\n",
      "  for chunk in reader:\n",
      "/var/folders/cc/jxs8yxmn00bb_43d9z_0f13c0000gn/T/ipykernel_6812/1222850924.py:9: DtypeWarning: Columns (34) have mixed types. Specify dtype option on import or set low_memory=False.\n",
      "  for chunk in reader:\n",
      "/var/folders/cc/jxs8yxmn00bb_43d9z_0f13c0000gn/T/ipykernel_6812/1222850924.py:9: DtypeWarning: Columns (5,7) have mixed types. Specify dtype option on import or set low_memory=False.\n",
      "  for chunk in reader:\n",
      "/var/folders/cc/jxs8yxmn00bb_43d9z_0f13c0000gn/T/ipykernel_6812/1222850924.py:9: DtypeWarning: Columns (5,7) have mixed types. Specify dtype option on import or set low_memory=False.\n",
      "  for chunk in reader:\n",
      "/var/folders/cc/jxs8yxmn00bb_43d9z_0f13c0000gn/T/ipykernel_6812/1222850924.py:15: FutureWarning: The behavior of DataFrame concatenation with empty or all-NA entries is deprecated. In a future version, this will no longer exclude empty or all-NA columns when determining the result dtypes. To retain the old behavior, exclude the relevant entries before the concat operation.\n",
      "  envision_filtered = pd.concat(results)\n"
     ]
    }
   ],
   "source": [
    "chunk_size = 200000\n",
    "reader = pd.read_csv('~/Desktop/final important files/ENvision_predictions.csv', usecols=['Variant', 'Uniprot', 'Envision_predictions'], chunksize=chunk_size)\n",
    "\n",
    "variants = pd.read_csv('~/Desktop/final important files/humsavar_variant_uniprot_gene.csv')\n",
    "\n",
    "results = []\n",
    "variants['Variant'] = variants['Variant'].astype(str)\n",
    "variants['UniprotID'] = variants['UniprotID'].astype(str)\n",
    "for chunk in reader:\n",
    "    chunk['Variant'] = chunk['Variant'].astype(str)\n",
    "    chunk['Uniprot'] = chunk['Uniprot'].astype(str)\n",
    "    merged = pd.merge(chunk, variants, left_on=['Variant', 'Uniprot'], right_on=['Variant', 'UniprotID'], how='inner')\n",
    "    results.append(merged[['Variant', 'UniprotID', 'Envision_predictions']])\n",
    "\n",
    "envision_filtered = pd.concat(results)\n",
    "\n",
    "final_hum_df = pd.merge(variants, envision_filtered, left_on=['Variant', 'UniprotID'], right_on=['Variant', 'UniprotID'], how='left')\n",
    "final_hum_df.to_csv('~/Desktop/final important files/humsavar_with_envision.csv', index=False)"
   ]
  },
  {
   "cell_type": "code",
   "execution_count": 80,
   "metadata": {},
   "outputs": [
    {
     "data": {
      "text/plain": [
       "(1135, 4)"
      ]
     },
     "execution_count": 80,
     "metadata": {},
     "output_type": "execute_result"
    }
   ],
   "source": [
    "final_hum_df.shape"
   ]
  },
  {
   "cell_type": "markdown",
   "metadata": {},
   "source": [
    "### Merging back to original ClinVar and Humsavar datasets (just add ENvision preds column)"
   ]
  },
  {
   "cell_type": "markdown",
   "metadata": {},
   "source": [
    "### ClinVar"
   ]
  },
  {
   "cell_type": "code",
   "execution_count": 91,
   "metadata": {},
   "outputs": [],
   "source": [
    "preclinvar = pd.read_csv('cleaned_ClinVar_with_preds.csv')\n",
    "envision = pd.read_csv('clinvar_with_envision.csv')\n",
    "\n",
    "merged = pd.merge(preclinvar, envision[['Variant', 'UniprotID', 'GeneSymbol', 'Envision_predictions']],\n",
    "                  on=['Variant', 'UniprotID', 'GeneSymbol'], how='left')"
   ]
  },
  {
   "cell_type": "code",
   "execution_count": 92,
   "metadata": {},
   "outputs": [
    {
     "data": {
      "text/plain": [
       "(47609, 71)"
      ]
     },
     "execution_count": 92,
     "metadata": {},
     "output_type": "execute_result"
    }
   ],
   "source": [
    "merged.shape"
   ]
  },
  {
   "cell_type": "code",
   "execution_count": 93,
   "metadata": {},
   "outputs": [
    {
     "data": {
      "text/plain": [
       "np.int64(1559)"
      ]
     },
     "execution_count": 93,
     "metadata": {},
     "output_type": "execute_result"
    }
   ],
   "source": [
    "merged.duplicated(subset=['Variant', 'UniprotID', 'GeneSymbol']).sum()"
   ]
  },
  {
   "cell_type": "code",
   "execution_count": 94,
   "metadata": {},
   "outputs": [
    {
     "data": {
      "text/plain": [
       "(46050, 71)"
      ]
     },
     "execution_count": 94,
     "metadata": {},
     "output_type": "execute_result"
    }
   ],
   "source": [
    "merged = merged.drop_duplicates(subset=['Variant', 'UniprotID', 'GeneSymbol'], keep='first')\n",
    "merged.shape"
   ]
  },
  {
   "cell_type": "code",
   "execution_count": 89,
   "metadata": {},
   "outputs": [],
   "source": [
    "merged.to_csv('cleaned_ClinVar_with_preds_ENv.csv', index=False)"
   ]
  },
  {
   "cell_type": "markdown",
   "metadata": {},
   "source": [
    "### Humsavar"
   ]
  },
  {
   "cell_type": "code",
   "execution_count": 95,
   "metadata": {},
   "outputs": [],
   "source": [
    "prehumsavar = pd.read_csv('cleaned_Humsavar_with_preds_FINAL.csv')\n",
    "envision = pd.read_csv('humsavar_with_envision.csv')\n",
    "\n",
    "merged_hum = pd.merge(prehumsavar, envision[['Variant', 'UniprotID', 'GeneSymbol', 'Envision_predictions']],\n",
    "                  on=['Variant', 'UniprotID', 'GeneSymbol'], how='left')"
   ]
  },
  {
   "cell_type": "code",
   "execution_count": 96,
   "metadata": {},
   "outputs": [
    {
     "data": {
      "text/plain": [
       "(1135, 68)"
      ]
     },
     "execution_count": 96,
     "metadata": {},
     "output_type": "execute_result"
    }
   ],
   "source": [
    "merged_hum.shape"
   ]
  },
  {
   "cell_type": "code",
   "execution_count": 97,
   "metadata": {},
   "outputs": [
    {
     "data": {
      "text/plain": [
       "np.int64(27)"
      ]
     },
     "execution_count": 97,
     "metadata": {},
     "output_type": "execute_result"
    }
   ],
   "source": [
    "merged_hum.duplicated(subset=['Variant', 'UniprotID', 'GeneSymbol']).sum()"
   ]
  },
  {
   "cell_type": "code",
   "execution_count": 98,
   "metadata": {},
   "outputs": [
    {
     "data": {
      "text/plain": [
       "(1108, 68)"
      ]
     },
     "execution_count": 98,
     "metadata": {},
     "output_type": "execute_result"
    }
   ],
   "source": [
    "merged_hum = merged_hum.drop_duplicates(subset=['Variant', 'UniprotID', 'GeneSymbol'], keep='first')\n",
    "merged_hum.shape"
   ]
  },
  {
   "cell_type": "code",
   "execution_count": 99,
   "metadata": {},
   "outputs": [],
   "source": [
    "merged_hum.to_csv('cleaned_Humsavar_with_preds_ENv.csv', index=False)"
   ]
  },
  {
   "cell_type": "markdown",
   "metadata": {},
   "source": [
    "# QAFI predictions"
   ]
  },
  {
   "cell_type": "code",
   "execution_count": 100,
   "metadata": {},
   "outputs": [],
   "source": [
    "clinvar = pd.read_csv('~/Desktop/final important files/cleaned_ClinVar_with_preds_ENv.csv', sep=',')"
   ]
  },
  {
   "cell_type": "code",
   "execution_count": 104,
   "metadata": {},
   "outputs": [],
   "source": [
    "humsavar = pd.read_csv('~/Desktop/final important files/cleaned_Humsavar_with_preds_ENv.csv', sep=',')"
   ]
  },
  {
   "cell_type": "code",
   "execution_count": 106,
   "metadata": {},
   "outputs": [],
   "source": [
    "qafi_preds = pd.read_csv('~/Desktop/final important files/QAFI_predictions.csv', sep=',')"
   ]
  },
  {
   "cell_type": "code",
   "execution_count": 107,
   "metadata": {},
   "outputs": [
    {
     "data": {
      "text/plain": [
       "(45165679, 4)"
      ]
     },
     "execution_count": 107,
     "metadata": {},
     "output_type": "execute_result"
    }
   ],
   "source": [
    "qafi_preds.shape"
   ]
  },
  {
   "cell_type": "code",
   "execution_count": 108,
   "metadata": {},
   "outputs": [
    {
     "data": {
      "text/html": [
       "<div>\n",
       "<style scoped>\n",
       "    .dataframe tbody tr th:only-of-type {\n",
       "        vertical-align: middle;\n",
       "    }\n",
       "\n",
       "    .dataframe tbody tr th {\n",
       "        vertical-align: top;\n",
       "    }\n",
       "\n",
       "    .dataframe thead th {\n",
       "        text-align: right;\n",
       "    }\n",
       "</style>\n",
       "<table border=\"1\" class=\"dataframe\">\n",
       "  <thead>\n",
       "    <tr style=\"text-align: right;\">\n",
       "      <th></th>\n",
       "      <th>Uniprot ID</th>\n",
       "      <th>Gene Symbol</th>\n",
       "      <th>variant</th>\n",
       "      <th>QAFI_predictions</th>\n",
       "    </tr>\n",
       "  </thead>\n",
       "  <tbody>\n",
       "    <tr>\n",
       "      <th>0</th>\n",
       "      <td>Q96S66</td>\n",
       "      <td>CLCC1</td>\n",
       "      <td>M1A</td>\n",
       "      <td>0.741</td>\n",
       "    </tr>\n",
       "    <tr>\n",
       "      <th>1</th>\n",
       "      <td>Q96S66</td>\n",
       "      <td>CLCC1</td>\n",
       "      <td>M1Y</td>\n",
       "      <td>0.665</td>\n",
       "    </tr>\n",
       "    <tr>\n",
       "      <th>2</th>\n",
       "      <td>Q96S66</td>\n",
       "      <td>CLCC1</td>\n",
       "      <td>M1W</td>\n",
       "      <td>0.692</td>\n",
       "    </tr>\n",
       "    <tr>\n",
       "      <th>3</th>\n",
       "      <td>Q96S66</td>\n",
       "      <td>CLCC1</td>\n",
       "      <td>M1V</td>\n",
       "      <td>0.826</td>\n",
       "    </tr>\n",
       "    <tr>\n",
       "      <th>4</th>\n",
       "      <td>Q96S66</td>\n",
       "      <td>CLCC1</td>\n",
       "      <td>M1T</td>\n",
       "      <td>0.796</td>\n",
       "    </tr>\n",
       "  </tbody>\n",
       "</table>\n",
       "</div>"
      ],
      "text/plain": [
       "  Uniprot ID Gene Symbol variant  QAFI_predictions\n",
       "0     Q96S66       CLCC1     M1A             0.741\n",
       "1     Q96S66       CLCC1     M1Y             0.665\n",
       "2     Q96S66       CLCC1     M1W             0.692\n",
       "3     Q96S66       CLCC1     M1V             0.826\n",
       "4     Q96S66       CLCC1     M1T             0.796"
      ]
     },
     "execution_count": 108,
     "metadata": {},
     "output_type": "execute_result"
    }
   ],
   "source": [
    "qafi_preds.head()"
   ]
  },
  {
   "cell_type": "markdown",
   "metadata": {},
   "source": [
    "Now, we follow a similar procedure as with ENvision.\n",
    "\n",
    "1. First, we filter QAFI predictions to have the columns: Uniprot ID, Gene Symbol, Variant, QAFI_predictions.\n",
    "2. Then, we merge QAFI data with the filtered ClinVar and Humsavar datasets using the common columns (Uniprot ID, Gene Symbol, and Variant).\n",
    "3. We add the QAFI prediction column to the filtered ClinVar and Humsavar datasets.\n",
    "4. Finally, we merge the updated datasets (with both Envision and QAFI predictions) back to the original datasets (ClinVar and Humsavar) to add the new QAFI prediction column."
   ]
  },
  {
   "cell_type": "markdown",
   "metadata": {},
   "source": [
    "It's important to note that Envision is a large-scale predictor that was calculated for millions of variants, providing precomputed scores for a wide range of human genetic variants. On the other hand, QAFI is a predictor developed in our lab, with precomputed scores available for approximately 3,000 variants. Thus, when merging QAFI predictions into the datasets, only a subset of variants will have a corresponding prediction. This reflects its more limited coverage compared to Envision and also serves to assess how one of our custom predictors performs in comparison to major, widely used predictors."
   ]
  },
  {
   "cell_type": "markdown",
   "metadata": {},
   "source": [
    "### ClinVar"
   ]
  },
  {
   "cell_type": "code",
   "execution_count": 109,
   "metadata": {},
   "outputs": [],
   "source": [
    "# rename QAFI columns to match ClinVar\n",
    "qafi_preds.rename(columns={\n",
    "    'Uniprot ID': 'UniprotID',\n",
    "    'Gene Symbol': 'GeneSymbol',\n",
    "    'variant': 'Variant'\n",
    "}, inplace=True)\n",
    "\n",
    "# merge to add QAFI_predictions to matching variants\n",
    "merged = pd.merge(clinvar, qafi_preds[['Variant', 'UniprotID', 'GeneSymbol', 'QAFI_predictions']],\n",
    "                  on=['Variant', 'UniprotID', 'GeneSymbol'], how='left')"
   ]
  },
  {
   "cell_type": "code",
   "execution_count": 110,
   "metadata": {},
   "outputs": [
    {
     "name": "stdout",
     "output_type": "stream",
     "text": [
      "Merged shape: (46050, 72)\n",
      "Non-null QAFI preds: 29623\n"
     ]
    }
   ],
   "source": [
    "print(\"Merged shape:\", merged.shape)\n",
    "print(\"Non-null QAFI preds:\", merged['QAFI_predictions'].notna().sum())"
   ]
  },
  {
   "cell_type": "code",
   "execution_count": 111,
   "metadata": {},
   "outputs": [],
   "source": [
    "merged.to_csv('cleaned_ClinVar_with_preds_ENV_QAFI.csv', index=False)"
   ]
  },
  {
   "cell_type": "markdown",
   "metadata": {},
   "source": [
    "### Humsavar"
   ]
  },
  {
   "cell_type": "code",
   "execution_count": 113,
   "metadata": {},
   "outputs": [],
   "source": [
    "# merge to add QAFI_predictions to matching variants\n",
    "merged = pd.merge(humsavar, qafi_preds[['Variant', 'UniprotID', 'GeneSymbol', 'QAFI_predictions']],\n",
    "                  on=['Variant', 'UniprotID', 'GeneSymbol'], how='left')"
   ]
  },
  {
   "cell_type": "code",
   "execution_count": 114,
   "metadata": {},
   "outputs": [
    {
     "name": "stdout",
     "output_type": "stream",
     "text": [
      "Merged shape: (1108, 69)\n",
      "Non-null QAFI preds: 274\n"
     ]
    }
   ],
   "source": [
    "print(\"Merged shape:\", merged.shape)\n",
    "print(\"Non-null QAFI preds:\", merged['QAFI_predictions'].notna().sum())"
   ]
  },
  {
   "cell_type": "code",
   "execution_count": 115,
   "metadata": {},
   "outputs": [],
   "source": [
    "merged.to_csv('cleaned_Humsavar_with_preds_ENV_QAFI.csv', index=False)"
   ]
  },
  {
   "cell_type": "markdown",
   "metadata": {},
   "source": [
    "# MetaRNN predictions"
   ]
  },
  {
   "cell_type": "code",
   "execution_count": 3,
   "metadata": {},
   "outputs": [],
   "source": [
    "clinvar = pd.read_csv('~/Desktop/final important files/cleaned_ClinVar_with_preds_ENv_QAFI.csv', sep=',')"
   ]
  },
  {
   "cell_type": "code",
   "execution_count": 4,
   "metadata": {},
   "outputs": [],
   "source": [
    "humsavar = pd.read_csv('~/Desktop/final important files/cleaned_Humsavar_with_preds_ENv_QAFI.csv', sep=',')"
   ]
  },
  {
   "cell_type": "markdown",
   "metadata": {},
   "source": [
    "### ClinVar"
   ]
  },
  {
   "cell_type": "markdown",
   "metadata": {},
   "source": [
    "Prepare MetaRNN chunks and ClinVar variant list"
   ]
  },
  {
   "cell_type": "code",
   "execution_count": 8,
   "metadata": {},
   "outputs": [],
   "source": [
    "chunk_size = 200000\n",
    "reader = pd.read_csv('~/Desktop/final important files/MetaRNN_predictions.tsv', sep='\\t', chunksize=chunk_size)\n",
    "\n",
    "variants = pd.read_csv('~/Desktop/final important files/clinvar_variant_uniprot_gene.csv')\n",
    "variants['Variant'] = variants['Variant'].astype(str)\n",
    "variants['UniprotID'] = variants['UniprotID'].astype(str)"
   ]
  },
  {
   "cell_type": "markdown",
   "metadata": {},
   "source": [
    "Process and filter MetaRNN predictions in chunks"
   ]
  },
  {
   "cell_type": "code",
   "execution_count": 9,
   "metadata": {},
   "outputs": [
    {
     "name": "stderr",
     "output_type": "stream",
     "text": [
      "/var/folders/cc/jxs8yxmn00bb_43d9z_0f13c0000gn/T/ipykernel_39311/3879746176.py:3: DtypeWarning: Columns (7) have mixed types. Specify dtype option on import or set low_memory=False.\n",
      "  for chunk in reader:\n",
      "/var/folders/cc/jxs8yxmn00bb_43d9z_0f13c0000gn/T/ipykernel_39311/3879746176.py:3: DtypeWarning: Columns (7) have mixed types. Specify dtype option on import or set low_memory=False.\n",
      "  for chunk in reader:\n",
      "/var/folders/cc/jxs8yxmn00bb_43d9z_0f13c0000gn/T/ipykernel_39311/3879746176.py:3: DtypeWarning: Columns (7) have mixed types. Specify dtype option on import or set low_memory=False.\n",
      "  for chunk in reader:\n",
      "/var/folders/cc/jxs8yxmn00bb_43d9z_0f13c0000gn/T/ipykernel_39311/3879746176.py:3: DtypeWarning: Columns (7) have mixed types. Specify dtype option on import or set low_memory=False.\n",
      "  for chunk in reader:\n",
      "/var/folders/cc/jxs8yxmn00bb_43d9z_0f13c0000gn/T/ipykernel_39311/3879746176.py:3: DtypeWarning: Columns (7) have mixed types. Specify dtype option on import or set low_memory=False.\n",
      "  for chunk in reader:\n",
      "/var/folders/cc/jxs8yxmn00bb_43d9z_0f13c0000gn/T/ipykernel_39311/3879746176.py:3: DtypeWarning: Columns (7) have mixed types. Specify dtype option on import or set low_memory=False.\n",
      "  for chunk in reader:\n",
      "/var/folders/cc/jxs8yxmn00bb_43d9z_0f13c0000gn/T/ipykernel_39311/3879746176.py:3: DtypeWarning: Columns (7) have mixed types. Specify dtype option on import or set low_memory=False.\n",
      "  for chunk in reader:\n",
      "/var/folders/cc/jxs8yxmn00bb_43d9z_0f13c0000gn/T/ipykernel_39311/3879746176.py:3: DtypeWarning: Columns (7) have mixed types. Specify dtype option on import or set low_memory=False.\n",
      "  for chunk in reader:\n",
      "/var/folders/cc/jxs8yxmn00bb_43d9z_0f13c0000gn/T/ipykernel_39311/3879746176.py:3: DtypeWarning: Columns (7) have mixed types. Specify dtype option on import or set low_memory=False.\n",
      "  for chunk in reader:\n",
      "/var/folders/cc/jxs8yxmn00bb_43d9z_0f13c0000gn/T/ipykernel_39311/3879746176.py:3: DtypeWarning: Columns (7) have mixed types. Specify dtype option on import or set low_memory=False.\n",
      "  for chunk in reader:\n",
      "/var/folders/cc/jxs8yxmn00bb_43d9z_0f13c0000gn/T/ipykernel_39311/3879746176.py:3: DtypeWarning: Columns (7) have mixed types. Specify dtype option on import or set low_memory=False.\n",
      "  for chunk in reader:\n",
      "/var/folders/cc/jxs8yxmn00bb_43d9z_0f13c0000gn/T/ipykernel_39311/3879746176.py:3: DtypeWarning: Columns (7) have mixed types. Specify dtype option on import or set low_memory=False.\n",
      "  for chunk in reader:\n",
      "/var/folders/cc/jxs8yxmn00bb_43d9z_0f13c0000gn/T/ipykernel_39311/3879746176.py:3: DtypeWarning: Columns (7) have mixed types. Specify dtype option on import or set low_memory=False.\n",
      "  for chunk in reader:\n",
      "/var/folders/cc/jxs8yxmn00bb_43d9z_0f13c0000gn/T/ipykernel_39311/3879746176.py:3: DtypeWarning: Columns (7) have mixed types. Specify dtype option on import or set low_memory=False.\n",
      "  for chunk in reader:\n",
      "/var/folders/cc/jxs8yxmn00bb_43d9z_0f13c0000gn/T/ipykernel_39311/3879746176.py:3: DtypeWarning: Columns (7) have mixed types. Specify dtype option on import or set low_memory=False.\n",
      "  for chunk in reader:\n",
      "/var/folders/cc/jxs8yxmn00bb_43d9z_0f13c0000gn/T/ipykernel_39311/3879746176.py:3: DtypeWarning: Columns (7) have mixed types. Specify dtype option on import or set low_memory=False.\n",
      "  for chunk in reader:\n",
      "/var/folders/cc/jxs8yxmn00bb_43d9z_0f13c0000gn/T/ipykernel_39311/3879746176.py:3: DtypeWarning: Columns (7) have mixed types. Specify dtype option on import or set low_memory=False.\n",
      "  for chunk in reader:\n",
      "/var/folders/cc/jxs8yxmn00bb_43d9z_0f13c0000gn/T/ipykernel_39311/3879746176.py:3: DtypeWarning: Columns (7) have mixed types. Specify dtype option on import or set low_memory=False.\n",
      "  for chunk in reader:\n",
      "/var/folders/cc/jxs8yxmn00bb_43d9z_0f13c0000gn/T/ipykernel_39311/3879746176.py:3: DtypeWarning: Columns (7) have mixed types. Specify dtype option on import or set low_memory=False.\n",
      "  for chunk in reader:\n",
      "/var/folders/cc/jxs8yxmn00bb_43d9z_0f13c0000gn/T/ipykernel_39311/3879746176.py:3: DtypeWarning: Columns (7) have mixed types. Specify dtype option on import or set low_memory=False.\n",
      "  for chunk in reader:\n",
      "/var/folders/cc/jxs8yxmn00bb_43d9z_0f13c0000gn/T/ipykernel_39311/3879746176.py:3: DtypeWarning: Columns (7) have mixed types. Specify dtype option on import or set low_memory=False.\n",
      "  for chunk in reader:\n",
      "/var/folders/cc/jxs8yxmn00bb_43d9z_0f13c0000gn/T/ipykernel_39311/3879746176.py:3: DtypeWarning: Columns (7) have mixed types. Specify dtype option on import or set low_memory=False.\n",
      "  for chunk in reader:\n",
      "/var/folders/cc/jxs8yxmn00bb_43d9z_0f13c0000gn/T/ipykernel_39311/3879746176.py:3: DtypeWarning: Columns (7) have mixed types. Specify dtype option on import or set low_memory=False.\n",
      "  for chunk in reader:\n",
      "/var/folders/cc/jxs8yxmn00bb_43d9z_0f13c0000gn/T/ipykernel_39311/3879746176.py:3: DtypeWarning: Columns (7) have mixed types. Specify dtype option on import or set low_memory=False.\n",
      "  for chunk in reader:\n",
      "/var/folders/cc/jxs8yxmn00bb_43d9z_0f13c0000gn/T/ipykernel_39311/3879746176.py:3: DtypeWarning: Columns (7) have mixed types. Specify dtype option on import or set low_memory=False.\n",
      "  for chunk in reader:\n",
      "/var/folders/cc/jxs8yxmn00bb_43d9z_0f13c0000gn/T/ipykernel_39311/3879746176.py:3: DtypeWarning: Columns (7) have mixed types. Specify dtype option on import or set low_memory=False.\n",
      "  for chunk in reader:\n",
      "/var/folders/cc/jxs8yxmn00bb_43d9z_0f13c0000gn/T/ipykernel_39311/3879746176.py:3: DtypeWarning: Columns (7) have mixed types. Specify dtype option on import or set low_memory=False.\n",
      "  for chunk in reader:\n",
      "/var/folders/cc/jxs8yxmn00bb_43d9z_0f13c0000gn/T/ipykernel_39311/3879746176.py:3: DtypeWarning: Columns (7) have mixed types. Specify dtype option on import or set low_memory=False.\n",
      "  for chunk in reader:\n",
      "/var/folders/cc/jxs8yxmn00bb_43d9z_0f13c0000gn/T/ipykernel_39311/3879746176.py:3: DtypeWarning: Columns (7) have mixed types. Specify dtype option on import or set low_memory=False.\n",
      "  for chunk in reader:\n",
      "/var/folders/cc/jxs8yxmn00bb_43d9z_0f13c0000gn/T/ipykernel_39311/3879746176.py:3: DtypeWarning: Columns (7) have mixed types. Specify dtype option on import or set low_memory=False.\n",
      "  for chunk in reader:\n",
      "/var/folders/cc/jxs8yxmn00bb_43d9z_0f13c0000gn/T/ipykernel_39311/3879746176.py:3: DtypeWarning: Columns (7) have mixed types. Specify dtype option on import or set low_memory=False.\n",
      "  for chunk in reader:\n",
      "/var/folders/cc/jxs8yxmn00bb_43d9z_0f13c0000gn/T/ipykernel_39311/3879746176.py:3: DtypeWarning: Columns (7) have mixed types. Specify dtype option on import or set low_memory=False.\n",
      "  for chunk in reader:\n",
      "/var/folders/cc/jxs8yxmn00bb_43d9z_0f13c0000gn/T/ipykernel_39311/3879746176.py:3: DtypeWarning: Columns (7) have mixed types. Specify dtype option on import or set low_memory=False.\n",
      "  for chunk in reader:\n",
      "/var/folders/cc/jxs8yxmn00bb_43d9z_0f13c0000gn/T/ipykernel_39311/3879746176.py:3: DtypeWarning: Columns (7) have mixed types. Specify dtype option on import or set low_memory=False.\n",
      "  for chunk in reader:\n",
      "/var/folders/cc/jxs8yxmn00bb_43d9z_0f13c0000gn/T/ipykernel_39311/3879746176.py:3: DtypeWarning: Columns (7) have mixed types. Specify dtype option on import or set low_memory=False.\n",
      "  for chunk in reader:\n",
      "/var/folders/cc/jxs8yxmn00bb_43d9z_0f13c0000gn/T/ipykernel_39311/3879746176.py:3: DtypeWarning: Columns (7) have mixed types. Specify dtype option on import or set low_memory=False.\n",
      "  for chunk in reader:\n",
      "/var/folders/cc/jxs8yxmn00bb_43d9z_0f13c0000gn/T/ipykernel_39311/3879746176.py:3: DtypeWarning: Columns (7) have mixed types. Specify dtype option on import or set low_memory=False.\n",
      "  for chunk in reader:\n",
      "/var/folders/cc/jxs8yxmn00bb_43d9z_0f13c0000gn/T/ipykernel_39311/3879746176.py:3: DtypeWarning: Columns (7) have mixed types. Specify dtype option on import or set low_memory=False.\n",
      "  for chunk in reader:\n",
      "/var/folders/cc/jxs8yxmn00bb_43d9z_0f13c0000gn/T/ipykernel_39311/3879746176.py:3: DtypeWarning: Columns (7) have mixed types. Specify dtype option on import or set low_memory=False.\n",
      "  for chunk in reader:\n",
      "/var/folders/cc/jxs8yxmn00bb_43d9z_0f13c0000gn/T/ipykernel_39311/3879746176.py:3: DtypeWarning: Columns (7) have mixed types. Specify dtype option on import or set low_memory=False.\n",
      "  for chunk in reader:\n",
      "/var/folders/cc/jxs8yxmn00bb_43d9z_0f13c0000gn/T/ipykernel_39311/3879746176.py:3: DtypeWarning: Columns (7) have mixed types. Specify dtype option on import or set low_memory=False.\n",
      "  for chunk in reader:\n",
      "/var/folders/cc/jxs8yxmn00bb_43d9z_0f13c0000gn/T/ipykernel_39311/3879746176.py:3: DtypeWarning: Columns (7) have mixed types. Specify dtype option on import or set low_memory=False.\n",
      "  for chunk in reader:\n",
      "/var/folders/cc/jxs8yxmn00bb_43d9z_0f13c0000gn/T/ipykernel_39311/3879746176.py:3: DtypeWarning: Columns (7) have mixed types. Specify dtype option on import or set low_memory=False.\n",
      "  for chunk in reader:\n",
      "/var/folders/cc/jxs8yxmn00bb_43d9z_0f13c0000gn/T/ipykernel_39311/3879746176.py:3: DtypeWarning: Columns (7) have mixed types. Specify dtype option on import or set low_memory=False.\n",
      "  for chunk in reader:\n",
      "/var/folders/cc/jxs8yxmn00bb_43d9z_0f13c0000gn/T/ipykernel_39311/3879746176.py:3: DtypeWarning: Columns (7) have mixed types. Specify dtype option on import or set low_memory=False.\n",
      "  for chunk in reader:\n",
      "/var/folders/cc/jxs8yxmn00bb_43d9z_0f13c0000gn/T/ipykernel_39311/3879746176.py:3: DtypeWarning: Columns (7) have mixed types. Specify dtype option on import or set low_memory=False.\n",
      "  for chunk in reader:\n",
      "/var/folders/cc/jxs8yxmn00bb_43d9z_0f13c0000gn/T/ipykernel_39311/3879746176.py:3: DtypeWarning: Columns (7) have mixed types. Specify dtype option on import or set low_memory=False.\n",
      "  for chunk in reader:\n",
      "/var/folders/cc/jxs8yxmn00bb_43d9z_0f13c0000gn/T/ipykernel_39311/3879746176.py:3: DtypeWarning: Columns (7) have mixed types. Specify dtype option on import or set low_memory=False.\n",
      "  for chunk in reader:\n",
      "/var/folders/cc/jxs8yxmn00bb_43d9z_0f13c0000gn/T/ipykernel_39311/3879746176.py:3: DtypeWarning: Columns (7) have mixed types. Specify dtype option on import or set low_memory=False.\n",
      "  for chunk in reader:\n",
      "/var/folders/cc/jxs8yxmn00bb_43d9z_0f13c0000gn/T/ipykernel_39311/3879746176.py:3: DtypeWarning: Columns (7) have mixed types. Specify dtype option on import or set low_memory=False.\n",
      "  for chunk in reader:\n",
      "/var/folders/cc/jxs8yxmn00bb_43d9z_0f13c0000gn/T/ipykernel_39311/3879746176.py:3: DtypeWarning: Columns (7) have mixed types. Specify dtype option on import or set low_memory=False.\n",
      "  for chunk in reader:\n",
      "/var/folders/cc/jxs8yxmn00bb_43d9z_0f13c0000gn/T/ipykernel_39311/3879746176.py:3: DtypeWarning: Columns (7) have mixed types. Specify dtype option on import or set low_memory=False.\n",
      "  for chunk in reader:\n",
      "/var/folders/cc/jxs8yxmn00bb_43d9z_0f13c0000gn/T/ipykernel_39311/3879746176.py:3: DtypeWarning: Columns (7) have mixed types. Specify dtype option on import or set low_memory=False.\n",
      "  for chunk in reader:\n",
      "/var/folders/cc/jxs8yxmn00bb_43d9z_0f13c0000gn/T/ipykernel_39311/3879746176.py:3: DtypeWarning: Columns (7) have mixed types. Specify dtype option on import or set low_memory=False.\n",
      "  for chunk in reader:\n",
      "/var/folders/cc/jxs8yxmn00bb_43d9z_0f13c0000gn/T/ipykernel_39311/3879746176.py:3: DtypeWarning: Columns (7) have mixed types. Specify dtype option on import or set low_memory=False.\n",
      "  for chunk in reader:\n",
      "/var/folders/cc/jxs8yxmn00bb_43d9z_0f13c0000gn/T/ipykernel_39311/3879746176.py:3: DtypeWarning: Columns (7) have mixed types. Specify dtype option on import or set low_memory=False.\n",
      "  for chunk in reader:\n",
      "/var/folders/cc/jxs8yxmn00bb_43d9z_0f13c0000gn/T/ipykernel_39311/3879746176.py:3: DtypeWarning: Columns (7) have mixed types. Specify dtype option on import or set low_memory=False.\n",
      "  for chunk in reader:\n",
      "/var/folders/cc/jxs8yxmn00bb_43d9z_0f13c0000gn/T/ipykernel_39311/3879746176.py:3: DtypeWarning: Columns (7) have mixed types. Specify dtype option on import or set low_memory=False.\n",
      "  for chunk in reader:\n",
      "/var/folders/cc/jxs8yxmn00bb_43d9z_0f13c0000gn/T/ipykernel_39311/3879746176.py:3: DtypeWarning: Columns (7) have mixed types. Specify dtype option on import or set low_memory=False.\n",
      "  for chunk in reader:\n",
      "/var/folders/cc/jxs8yxmn00bb_43d9z_0f13c0000gn/T/ipykernel_39311/3879746176.py:3: DtypeWarning: Columns (7) have mixed types. Specify dtype option on import or set low_memory=False.\n",
      "  for chunk in reader:\n"
     ]
    }
   ],
   "source": [
    "results = []\n",
    "\n",
    "for chunk in reader:\n",
    "    chunk['aapos'] = chunk['aapos'].astype(str)\n",
    "    chunk['Variant'] = chunk['aaref'] + chunk['aapos'] + chunk['aaalt']\n",
    "    chunk['Uniprot_acc'] = chunk['Uniprot_acc'].astype(str)\n",
    "    chunk['Variant'] = chunk['Variant'].astype(str)\n",
    "\n",
    "    chunk = chunk.rename(columns={'Uniprot_acc': 'UniprotID', 'genename': 'GeneSymbol'})\n",
    "\n",
    "    merged = pd.merge(chunk, variants, on=['Variant', 'UniprotID', 'GeneSymbol'], how='inner')\n",
    "    results.append(merged[['Variant', 'UniprotID', 'GeneSymbol', 'MetaRNN_score', 'MetaRNN_pred']])"
   ]
  },
  {
   "cell_type": "markdown",
   "metadata": {},
   "source": [
    "Combine chunks and save filtered MetaRNN predictions"
   ]
  },
  {
   "cell_type": "code",
   "execution_count": 10,
   "metadata": {},
   "outputs": [],
   "source": [
    "metarnn_filtered = pd.concat(results)\n",
    "metarnn_filtered.to_csv('clinvar_with_metarnn.csv', index=False)"
   ]
  },
  {
   "cell_type": "markdown",
   "metadata": {},
   "source": [
    "Merge back to full ClinVar dataset (with ENv + QAFI)"
   ]
  },
  {
   "cell_type": "code",
   "execution_count": 11,
   "metadata": {},
   "outputs": [],
   "source": [
    "merged = pd.merge(clinvar, metarnn_filtered, on=['Variant', 'UniprotID', 'GeneSymbol'], how='left')"
   ]
  },
  {
   "cell_type": "code",
   "execution_count": 12,
   "metadata": {},
   "outputs": [
    {
     "data": {
      "text/plain": [
       "(47202, 74)"
      ]
     },
     "execution_count": 12,
     "metadata": {},
     "output_type": "execute_result"
    }
   ],
   "source": [
    "merged.shape"
   ]
  },
  {
   "cell_type": "code",
   "execution_count": 13,
   "metadata": {},
   "outputs": [],
   "source": [
    "merged = merged.drop_duplicates(subset=['Variant', 'UniprotID', 'GeneSymbol'])"
   ]
  },
  {
   "cell_type": "code",
   "execution_count": 14,
   "metadata": {},
   "outputs": [
    {
     "data": {
      "text/plain": [
       "(46050, 74)"
      ]
     },
     "execution_count": 14,
     "metadata": {},
     "output_type": "execute_result"
    }
   ],
   "source": [
    "merged.shape"
   ]
  },
  {
   "cell_type": "code",
   "execution_count": 15,
   "metadata": {},
   "outputs": [],
   "source": [
    "merged.to_csv('cleaned_ClinVar_with_preds_ENv_QAFI_MetaRNN.csv', index=False)"
   ]
  },
  {
   "cell_type": "markdown",
   "metadata": {},
   "source": [
    "### Humsavar"
   ]
  },
  {
   "cell_type": "markdown",
   "metadata": {},
   "source": [
    "Load variant list from Humsavar"
   ]
  },
  {
   "cell_type": "code",
   "execution_count": 16,
   "metadata": {},
   "outputs": [],
   "source": [
    "chunk_size = 200000\n",
    "reader = pd.read_csv('~/Desktop/final important files/MetaRNN_predictions.tsv', sep='\\t', chunksize=chunk_size)\n",
    "\n",
    "variants = pd.read_csv('~/Desktop/final important files/humsavar_variant_uniprot_gene.csv')\n",
    "variants['Variant'] = variants['Variant'].astype(str)\n",
    "variants['UniprotID'] = variants['UniprotID'].astype(str)"
   ]
  },
  {
   "cell_type": "markdown",
   "metadata": {},
   "source": [
    "Process MetaRNN predictions in chunks"
   ]
  },
  {
   "cell_type": "code",
   "execution_count": 17,
   "metadata": {},
   "outputs": [
    {
     "name": "stderr",
     "output_type": "stream",
     "text": [
      "/var/folders/cc/jxs8yxmn00bb_43d9z_0f13c0000gn/T/ipykernel_39311/3879746176.py:3: DtypeWarning: Columns (7) have mixed types. Specify dtype option on import or set low_memory=False.\n",
      "  for chunk in reader:\n",
      "/var/folders/cc/jxs8yxmn00bb_43d9z_0f13c0000gn/T/ipykernel_39311/3879746176.py:3: DtypeWarning: Columns (7) have mixed types. Specify dtype option on import or set low_memory=False.\n",
      "  for chunk in reader:\n",
      "/var/folders/cc/jxs8yxmn00bb_43d9z_0f13c0000gn/T/ipykernel_39311/3879746176.py:3: DtypeWarning: Columns (7) have mixed types. Specify dtype option on import or set low_memory=False.\n",
      "  for chunk in reader:\n",
      "/var/folders/cc/jxs8yxmn00bb_43d9z_0f13c0000gn/T/ipykernel_39311/3879746176.py:3: DtypeWarning: Columns (7) have mixed types. Specify dtype option on import or set low_memory=False.\n",
      "  for chunk in reader:\n",
      "/var/folders/cc/jxs8yxmn00bb_43d9z_0f13c0000gn/T/ipykernel_39311/3879746176.py:3: DtypeWarning: Columns (7) have mixed types. Specify dtype option on import or set low_memory=False.\n",
      "  for chunk in reader:\n",
      "/var/folders/cc/jxs8yxmn00bb_43d9z_0f13c0000gn/T/ipykernel_39311/3879746176.py:3: DtypeWarning: Columns (7) have mixed types. Specify dtype option on import or set low_memory=False.\n",
      "  for chunk in reader:\n",
      "/var/folders/cc/jxs8yxmn00bb_43d9z_0f13c0000gn/T/ipykernel_39311/3879746176.py:3: DtypeWarning: Columns (7) have mixed types. Specify dtype option on import or set low_memory=False.\n",
      "  for chunk in reader:\n",
      "/var/folders/cc/jxs8yxmn00bb_43d9z_0f13c0000gn/T/ipykernel_39311/3879746176.py:3: DtypeWarning: Columns (7) have mixed types. Specify dtype option on import or set low_memory=False.\n",
      "  for chunk in reader:\n",
      "/var/folders/cc/jxs8yxmn00bb_43d9z_0f13c0000gn/T/ipykernel_39311/3879746176.py:3: DtypeWarning: Columns (7) have mixed types. Specify dtype option on import or set low_memory=False.\n",
      "  for chunk in reader:\n",
      "/var/folders/cc/jxs8yxmn00bb_43d9z_0f13c0000gn/T/ipykernel_39311/3879746176.py:3: DtypeWarning: Columns (7) have mixed types. Specify dtype option on import or set low_memory=False.\n",
      "  for chunk in reader:\n",
      "/var/folders/cc/jxs8yxmn00bb_43d9z_0f13c0000gn/T/ipykernel_39311/3879746176.py:3: DtypeWarning: Columns (7) have mixed types. Specify dtype option on import or set low_memory=False.\n",
      "  for chunk in reader:\n",
      "/var/folders/cc/jxs8yxmn00bb_43d9z_0f13c0000gn/T/ipykernel_39311/3879746176.py:3: DtypeWarning: Columns (7) have mixed types. Specify dtype option on import or set low_memory=False.\n",
      "  for chunk in reader:\n",
      "/var/folders/cc/jxs8yxmn00bb_43d9z_0f13c0000gn/T/ipykernel_39311/3879746176.py:3: DtypeWarning: Columns (7) have mixed types. Specify dtype option on import or set low_memory=False.\n",
      "  for chunk in reader:\n",
      "/var/folders/cc/jxs8yxmn00bb_43d9z_0f13c0000gn/T/ipykernel_39311/3879746176.py:3: DtypeWarning: Columns (7) have mixed types. Specify dtype option on import or set low_memory=False.\n",
      "  for chunk in reader:\n",
      "/var/folders/cc/jxs8yxmn00bb_43d9z_0f13c0000gn/T/ipykernel_39311/3879746176.py:3: DtypeWarning: Columns (7) have mixed types. Specify dtype option on import or set low_memory=False.\n",
      "  for chunk in reader:\n",
      "/var/folders/cc/jxs8yxmn00bb_43d9z_0f13c0000gn/T/ipykernel_39311/3879746176.py:3: DtypeWarning: Columns (7) have mixed types. Specify dtype option on import or set low_memory=False.\n",
      "  for chunk in reader:\n",
      "/var/folders/cc/jxs8yxmn00bb_43d9z_0f13c0000gn/T/ipykernel_39311/3879746176.py:3: DtypeWarning: Columns (7) have mixed types. Specify dtype option on import or set low_memory=False.\n",
      "  for chunk in reader:\n",
      "/var/folders/cc/jxs8yxmn00bb_43d9z_0f13c0000gn/T/ipykernel_39311/3879746176.py:3: DtypeWarning: Columns (7) have mixed types. Specify dtype option on import or set low_memory=False.\n",
      "  for chunk in reader:\n",
      "/var/folders/cc/jxs8yxmn00bb_43d9z_0f13c0000gn/T/ipykernel_39311/3879746176.py:3: DtypeWarning: Columns (7) have mixed types. Specify dtype option on import or set low_memory=False.\n",
      "  for chunk in reader:\n",
      "/var/folders/cc/jxs8yxmn00bb_43d9z_0f13c0000gn/T/ipykernel_39311/3879746176.py:3: DtypeWarning: Columns (7) have mixed types. Specify dtype option on import or set low_memory=False.\n",
      "  for chunk in reader:\n",
      "/var/folders/cc/jxs8yxmn00bb_43d9z_0f13c0000gn/T/ipykernel_39311/3879746176.py:3: DtypeWarning: Columns (7) have mixed types. Specify dtype option on import or set low_memory=False.\n",
      "  for chunk in reader:\n",
      "/var/folders/cc/jxs8yxmn00bb_43d9z_0f13c0000gn/T/ipykernel_39311/3879746176.py:3: DtypeWarning: Columns (7) have mixed types. Specify dtype option on import or set low_memory=False.\n",
      "  for chunk in reader:\n",
      "/var/folders/cc/jxs8yxmn00bb_43d9z_0f13c0000gn/T/ipykernel_39311/3879746176.py:3: DtypeWarning: Columns (7) have mixed types. Specify dtype option on import or set low_memory=False.\n",
      "  for chunk in reader:\n",
      "/var/folders/cc/jxs8yxmn00bb_43d9z_0f13c0000gn/T/ipykernel_39311/3879746176.py:3: DtypeWarning: Columns (7) have mixed types. Specify dtype option on import or set low_memory=False.\n",
      "  for chunk in reader:\n",
      "/var/folders/cc/jxs8yxmn00bb_43d9z_0f13c0000gn/T/ipykernel_39311/3879746176.py:3: DtypeWarning: Columns (7) have mixed types. Specify dtype option on import or set low_memory=False.\n",
      "  for chunk in reader:\n",
      "/var/folders/cc/jxs8yxmn00bb_43d9z_0f13c0000gn/T/ipykernel_39311/3879746176.py:3: DtypeWarning: Columns (7) have mixed types. Specify dtype option on import or set low_memory=False.\n",
      "  for chunk in reader:\n",
      "/var/folders/cc/jxs8yxmn00bb_43d9z_0f13c0000gn/T/ipykernel_39311/3879746176.py:3: DtypeWarning: Columns (7) have mixed types. Specify dtype option on import or set low_memory=False.\n",
      "  for chunk in reader:\n",
      "/var/folders/cc/jxs8yxmn00bb_43d9z_0f13c0000gn/T/ipykernel_39311/3879746176.py:3: DtypeWarning: Columns (7) have mixed types. Specify dtype option on import or set low_memory=False.\n",
      "  for chunk in reader:\n",
      "/var/folders/cc/jxs8yxmn00bb_43d9z_0f13c0000gn/T/ipykernel_39311/3879746176.py:3: DtypeWarning: Columns (7) have mixed types. Specify dtype option on import or set low_memory=False.\n",
      "  for chunk in reader:\n",
      "/var/folders/cc/jxs8yxmn00bb_43d9z_0f13c0000gn/T/ipykernel_39311/3879746176.py:3: DtypeWarning: Columns (7) have mixed types. Specify dtype option on import or set low_memory=False.\n",
      "  for chunk in reader:\n",
      "/var/folders/cc/jxs8yxmn00bb_43d9z_0f13c0000gn/T/ipykernel_39311/3879746176.py:3: DtypeWarning: Columns (7) have mixed types. Specify dtype option on import or set low_memory=False.\n",
      "  for chunk in reader:\n",
      "/var/folders/cc/jxs8yxmn00bb_43d9z_0f13c0000gn/T/ipykernel_39311/3879746176.py:3: DtypeWarning: Columns (7) have mixed types. Specify dtype option on import or set low_memory=False.\n",
      "  for chunk in reader:\n",
      "/var/folders/cc/jxs8yxmn00bb_43d9z_0f13c0000gn/T/ipykernel_39311/3879746176.py:3: DtypeWarning: Columns (7) have mixed types. Specify dtype option on import or set low_memory=False.\n",
      "  for chunk in reader:\n",
      "/var/folders/cc/jxs8yxmn00bb_43d9z_0f13c0000gn/T/ipykernel_39311/3879746176.py:3: DtypeWarning: Columns (7) have mixed types. Specify dtype option on import or set low_memory=False.\n",
      "  for chunk in reader:\n",
      "/var/folders/cc/jxs8yxmn00bb_43d9z_0f13c0000gn/T/ipykernel_39311/3879746176.py:3: DtypeWarning: Columns (7) have mixed types. Specify dtype option on import or set low_memory=False.\n",
      "  for chunk in reader:\n",
      "/var/folders/cc/jxs8yxmn00bb_43d9z_0f13c0000gn/T/ipykernel_39311/3879746176.py:3: DtypeWarning: Columns (7) have mixed types. Specify dtype option on import or set low_memory=False.\n",
      "  for chunk in reader:\n",
      "/var/folders/cc/jxs8yxmn00bb_43d9z_0f13c0000gn/T/ipykernel_39311/3879746176.py:3: DtypeWarning: Columns (7) have mixed types. Specify dtype option on import or set low_memory=False.\n",
      "  for chunk in reader:\n",
      "/var/folders/cc/jxs8yxmn00bb_43d9z_0f13c0000gn/T/ipykernel_39311/3879746176.py:3: DtypeWarning: Columns (7) have mixed types. Specify dtype option on import or set low_memory=False.\n",
      "  for chunk in reader:\n",
      "/var/folders/cc/jxs8yxmn00bb_43d9z_0f13c0000gn/T/ipykernel_39311/3879746176.py:3: DtypeWarning: Columns (7) have mixed types. Specify dtype option on import or set low_memory=False.\n",
      "  for chunk in reader:\n",
      "/var/folders/cc/jxs8yxmn00bb_43d9z_0f13c0000gn/T/ipykernel_39311/3879746176.py:3: DtypeWarning: Columns (7) have mixed types. Specify dtype option on import or set low_memory=False.\n",
      "  for chunk in reader:\n",
      "/var/folders/cc/jxs8yxmn00bb_43d9z_0f13c0000gn/T/ipykernel_39311/3879746176.py:3: DtypeWarning: Columns (7) have mixed types. Specify dtype option on import or set low_memory=False.\n",
      "  for chunk in reader:\n",
      "/var/folders/cc/jxs8yxmn00bb_43d9z_0f13c0000gn/T/ipykernel_39311/3879746176.py:3: DtypeWarning: Columns (7) have mixed types. Specify dtype option on import or set low_memory=False.\n",
      "  for chunk in reader:\n",
      "/var/folders/cc/jxs8yxmn00bb_43d9z_0f13c0000gn/T/ipykernel_39311/3879746176.py:3: DtypeWarning: Columns (7) have mixed types. Specify dtype option on import or set low_memory=False.\n",
      "  for chunk in reader:\n",
      "/var/folders/cc/jxs8yxmn00bb_43d9z_0f13c0000gn/T/ipykernel_39311/3879746176.py:3: DtypeWarning: Columns (7) have mixed types. Specify dtype option on import or set low_memory=False.\n",
      "  for chunk in reader:\n",
      "/var/folders/cc/jxs8yxmn00bb_43d9z_0f13c0000gn/T/ipykernel_39311/3879746176.py:3: DtypeWarning: Columns (7) have mixed types. Specify dtype option on import or set low_memory=False.\n",
      "  for chunk in reader:\n",
      "/var/folders/cc/jxs8yxmn00bb_43d9z_0f13c0000gn/T/ipykernel_39311/3879746176.py:3: DtypeWarning: Columns (7) have mixed types. Specify dtype option on import or set low_memory=False.\n",
      "  for chunk in reader:\n",
      "/var/folders/cc/jxs8yxmn00bb_43d9z_0f13c0000gn/T/ipykernel_39311/3879746176.py:3: DtypeWarning: Columns (7) have mixed types. Specify dtype option on import or set low_memory=False.\n",
      "  for chunk in reader:\n",
      "/var/folders/cc/jxs8yxmn00bb_43d9z_0f13c0000gn/T/ipykernel_39311/3879746176.py:3: DtypeWarning: Columns (7) have mixed types. Specify dtype option on import or set low_memory=False.\n",
      "  for chunk in reader:\n",
      "/var/folders/cc/jxs8yxmn00bb_43d9z_0f13c0000gn/T/ipykernel_39311/3879746176.py:3: DtypeWarning: Columns (7) have mixed types. Specify dtype option on import or set low_memory=False.\n",
      "  for chunk in reader:\n",
      "/var/folders/cc/jxs8yxmn00bb_43d9z_0f13c0000gn/T/ipykernel_39311/3879746176.py:3: DtypeWarning: Columns (7) have mixed types. Specify dtype option on import or set low_memory=False.\n",
      "  for chunk in reader:\n",
      "/var/folders/cc/jxs8yxmn00bb_43d9z_0f13c0000gn/T/ipykernel_39311/3879746176.py:3: DtypeWarning: Columns (7) have mixed types. Specify dtype option on import or set low_memory=False.\n",
      "  for chunk in reader:\n",
      "/var/folders/cc/jxs8yxmn00bb_43d9z_0f13c0000gn/T/ipykernel_39311/3879746176.py:3: DtypeWarning: Columns (7) have mixed types. Specify dtype option on import or set low_memory=False.\n",
      "  for chunk in reader:\n",
      "/var/folders/cc/jxs8yxmn00bb_43d9z_0f13c0000gn/T/ipykernel_39311/3879746176.py:3: DtypeWarning: Columns (7) have mixed types. Specify dtype option on import or set low_memory=False.\n",
      "  for chunk in reader:\n",
      "/var/folders/cc/jxs8yxmn00bb_43d9z_0f13c0000gn/T/ipykernel_39311/3879746176.py:3: DtypeWarning: Columns (7) have mixed types. Specify dtype option on import or set low_memory=False.\n",
      "  for chunk in reader:\n",
      "/var/folders/cc/jxs8yxmn00bb_43d9z_0f13c0000gn/T/ipykernel_39311/3879746176.py:3: DtypeWarning: Columns (7) have mixed types. Specify dtype option on import or set low_memory=False.\n",
      "  for chunk in reader:\n",
      "/var/folders/cc/jxs8yxmn00bb_43d9z_0f13c0000gn/T/ipykernel_39311/3879746176.py:3: DtypeWarning: Columns (7) have mixed types. Specify dtype option on import or set low_memory=False.\n",
      "  for chunk in reader:\n",
      "/var/folders/cc/jxs8yxmn00bb_43d9z_0f13c0000gn/T/ipykernel_39311/3879746176.py:3: DtypeWarning: Columns (7) have mixed types. Specify dtype option on import or set low_memory=False.\n",
      "  for chunk in reader:\n",
      "/var/folders/cc/jxs8yxmn00bb_43d9z_0f13c0000gn/T/ipykernel_39311/3879746176.py:3: DtypeWarning: Columns (7) have mixed types. Specify dtype option on import or set low_memory=False.\n",
      "  for chunk in reader:\n",
      "/var/folders/cc/jxs8yxmn00bb_43d9z_0f13c0000gn/T/ipykernel_39311/3879746176.py:3: DtypeWarning: Columns (7) have mixed types. Specify dtype option on import or set low_memory=False.\n",
      "  for chunk in reader:\n",
      "/var/folders/cc/jxs8yxmn00bb_43d9z_0f13c0000gn/T/ipykernel_39311/3879746176.py:3: DtypeWarning: Columns (7) have mixed types. Specify dtype option on import or set low_memory=False.\n",
      "  for chunk in reader:\n"
     ]
    }
   ],
   "source": [
    "results = []\n",
    "\n",
    "for chunk in reader:\n",
    "    chunk['aapos'] = chunk['aapos'].astype(str)\n",
    "    chunk['Variant'] = chunk['aaref'] + chunk['aapos'] + chunk['aaalt']\n",
    "    chunk['Uniprot_acc'] = chunk['Uniprot_acc'].astype(str)\n",
    "    chunk['Variant'] = chunk['Variant'].astype(str)\n",
    "\n",
    "    chunk = chunk.rename(columns={'Uniprot_acc': 'UniprotID', 'genename': 'GeneSymbol'})\n",
    "\n",
    "    merged = pd.merge(chunk, variants, on=['Variant', 'UniprotID', 'GeneSymbol'], how='inner')\n",
    "    results.append(merged[['Variant', 'UniprotID', 'GeneSymbol', 'MetaRNN_score', 'MetaRNN_pred']])"
   ]
  },
  {
   "cell_type": "markdown",
   "metadata": {},
   "source": [
    "Combine and save filtered MetaRNN scores"
   ]
  },
  {
   "cell_type": "code",
   "execution_count": 18,
   "metadata": {},
   "outputs": [],
   "source": [
    "metarnn_filtered = pd.concat(results)\n",
    "metarnn_filtered.to_csv('humsavar_with_metarnn.csv', index=False)"
   ]
  },
  {
   "cell_type": "markdown",
   "metadata": {},
   "source": [
    "Merge back to full Humsavar dataset (with ENv + QAFI)"
   ]
  },
  {
   "cell_type": "code",
   "execution_count": 19,
   "metadata": {},
   "outputs": [],
   "source": [
    "merged = pd.merge(humsavar, metarnn_filtered, on=['Variant', 'UniprotID', 'GeneSymbol'], how='left')"
   ]
  },
  {
   "cell_type": "code",
   "execution_count": 20,
   "metadata": {},
   "outputs": [
    {
     "data": {
      "text/plain": [
       "(1162, 71)"
      ]
     },
     "execution_count": 20,
     "metadata": {},
     "output_type": "execute_result"
    }
   ],
   "source": [
    "merged.shape"
   ]
  },
  {
   "cell_type": "code",
   "execution_count": 21,
   "metadata": {},
   "outputs": [],
   "source": [
    "merged = merged.drop_duplicates(subset=['Variant', 'UniprotID', 'GeneSymbol'])"
   ]
  },
  {
   "cell_type": "code",
   "execution_count": 22,
   "metadata": {},
   "outputs": [
    {
     "data": {
      "text/plain": [
       "(1108, 71)"
      ]
     },
     "execution_count": 22,
     "metadata": {},
     "output_type": "execute_result"
    }
   ],
   "source": [
    "merged.shape"
   ]
  },
  {
   "cell_type": "code",
   "execution_count": 23,
   "metadata": {},
   "outputs": [],
   "source": [
    "merged.to_csv('cleaned_Humsavar_with_preds_ENv_QAFI_MetaRNN.csv', index=False)"
   ]
  }
 ],
 "metadata": {
  "kernelspec": {
   "display_name": "oasis",
   "language": "python",
   "name": "python3"
  },
  "language_info": {
   "codemirror_mode": {
    "name": "ipython",
    "version": 3
   },
   "file_extension": ".py",
   "mimetype": "text/x-python",
   "name": "python",
   "nbconvert_exporter": "python",
   "pygments_lexer": "ipython3",
   "version": "3.12.1"
  }
 },
 "nbformat": 4,
 "nbformat_minor": 2
}
